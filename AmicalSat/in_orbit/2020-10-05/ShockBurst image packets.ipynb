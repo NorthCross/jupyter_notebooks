{
 "cells": [
  {
   "cell_type": "markdown",
   "metadata": {},
   "source": [
    "# AmicalSat ShockBurst image packets processing\n",
    "\n",
    "This notebook shows how to process ShockBurst S-band image packets to reassemble the image file"
   ]
  },
  {
   "cell_type": "code",
   "execution_count": 1,
   "metadata": {},
   "outputs": [],
   "source": [
    "%matplotlib inline\n",
    "import numpy as np\n",
    "import matplotlib.pyplot as plt\n",
    "from collections import Counter"
   ]
  },
  {
   "cell_type": "markdown",
   "metadata": {},
   "source": [
    "The data `shockburst.u8` contains ShockBurst frames without the `0xE7E7E7E7E7` address header (including frame counter, image payload and CRC). It has been obtained with `nrf24.grc`."
   ]
  },
  {
   "cell_type": "code",
   "execution_count": 2,
   "metadata": {},
   "outputs": [],
   "source": [
    "data = np.fromfile('shockburst.u8', dtype = 'uint8').reshape((-1,34))"
   ]
  },
  {
   "cell_type": "markdown",
   "metadata": {},
   "source": [
    "The CRC used in ShockBurst frames CRC16_CCITT_FALSE from [this online calculator](http://www.sunshine2k.de/coding/javascript/crc/crc_js.html). Since the `0xE7E7E7E7E7` address is included in the CRC calculation but is missing in our data, we take this into account by modifying the initial XOR value."
   ]
  },
  {
   "cell_type": "code",
   "execution_count": 3,
   "metadata": {},
   "outputs": [],
   "source": [
    "crc_table = [\n",
    "    0x0000, 0x1021, 0x2042, 0x3063, 0x4084, 0x50a5, 0x60c6, 0x70e7,\n",
    "    0x8108, 0x9129, 0xa14a, 0xb16b, 0xc18c, 0xd1ad, 0xe1ce, 0xf1ef,\n",
    "    0x1231, 0x0210, 0x3273, 0x2252, 0x52b5, 0x4294, 0x72f7, 0x62d6,\n",
    "    0x9339, 0x8318, 0xb37b, 0xa35a, 0xd3bd, 0xc39c, 0xf3ff, 0xe3de,\n",
    "    0x2462, 0x3443, 0x0420, 0x1401, 0x64e6, 0x74c7, 0x44a4, 0x5485,\n",
    "    0xa56a, 0xb54b, 0x8528, 0x9509, 0xe5ee, 0xf5cf, 0xc5ac, 0xd58d,\n",
    "    0x3653, 0x2672, 0x1611, 0x0630, 0x76d7, 0x66f6, 0x5695, 0x46b4,\n",
    "    0xb75b, 0xa77a, 0x9719, 0x8738, 0xf7df, 0xe7fe, 0xd79d, 0xc7bc,\n",
    "    0x48c4, 0x58e5, 0x6886, 0x78a7, 0x0840, 0x1861, 0x2802, 0x3823,\n",
    "    0xc9cc, 0xd9ed, 0xe98e, 0xf9af, 0x8948, 0x9969, 0xa90a, 0xb92b,\n",
    "    0x5af5, 0x4ad4, 0x7ab7, 0x6a96, 0x1a71, 0x0a50, 0x3a33, 0x2a12,\n",
    "    0xdbfd, 0xcbdc, 0xfbbf, 0xeb9e, 0x9b79, 0x8b58, 0xbb3b, 0xab1a,\n",
    "    0x6ca6, 0x7c87, 0x4ce4, 0x5cc5, 0x2c22, 0x3c03, 0x0c60, 0x1c41,\n",
    "    0xedae, 0xfd8f, 0xcdec, 0xddcd, 0xad2a, 0xbd0b, 0x8d68, 0x9d49,\n",
    "    0x7e97, 0x6eb6, 0x5ed5, 0x4ef4, 0x3e13, 0x2e32, 0x1e51, 0x0e70,\n",
    "    0xff9f, 0xefbe, 0xdfdd, 0xcffc, 0xbf1b, 0xaf3a, 0x9f59, 0x8f78,\n",
    "    0x9188, 0x81a9, 0xb1ca, 0xa1eb, 0xd10c, 0xc12d, 0xf14e, 0xe16f,\n",
    "    0x1080, 0x00a1, 0x30c2, 0x20e3, 0x5004, 0x4025, 0x7046, 0x6067,\n",
    "    0x83b9, 0x9398, 0xa3fb, 0xb3da, 0xc33d, 0xd31c, 0xe37f, 0xf35e,\n",
    "    0x02b1, 0x1290, 0x22f3, 0x32d2, 0x4235, 0x5214, 0x6277, 0x7256,\n",
    "    0xb5ea, 0xa5cb, 0x95a8, 0x8589, 0xf56e, 0xe54f, 0xd52c, 0xc50d,\n",
    "    0x34e2, 0x24c3, 0x14a0, 0x0481, 0x7466, 0x6447, 0x5424, 0x4405,\n",
    "    0xa7db, 0xb7fa, 0x8799, 0x97b8, 0xe75f, 0xf77e, 0xc71d, 0xd73c,\n",
    "    0x26d3, 0x36f2, 0x0691, 0x16b0, 0x6657, 0x7676, 0x4615, 0x5634,\n",
    "    0xd94c, 0xc96d, 0xf90e, 0xe92f, 0x99c8, 0x89e9, 0xb98a, 0xa9ab,\n",
    "    0x5844, 0x4865, 0x7806, 0x6827, 0x18c0, 0x08e1, 0x3882, 0x28a3,\n",
    "    0xcb7d, 0xdb5c, 0xeb3f, 0xfb1e, 0x8bf9, 0x9bd8, 0xabbb, 0xbb9a,\n",
    "    0x4a75, 0x5a54, 0x6a37, 0x7a16, 0x0af1, 0x1ad0, 0x2ab3, 0x3a92,\n",
    "    0xfd2e, 0xed0f, 0xdd6c, 0xcd4d, 0xbdaa, 0xad8b, 0x9de8, 0x8dc9,\n",
    "    0x7c26, 0x6c07, 0x5c64, 0x4c45, 0x3ca2, 0x2c83, 0x1ce0, 0x0cc1,\n",
    "    0xef1f, 0xff3e, 0xcf5d, 0xdf7c, 0xaf9b, 0xbfba, 0x8fd9, 0x9ff8,\n",
    "    0x6e17, 0x7e36, 0x4e55, 0x5e74, 0x2e93, 0x3eb2, 0x0ed1, 0x1ef0\n",
    "]\n",
    "\n",
    "def crc(frame):\n",
    "    c = 0xB95E # CRC of initial E7E7E7E7E7 address field\n",
    "    for b in frame:\n",
    "        tbl_idx = ((c >> 8) ^ b) & 0xff\n",
    "        c = (crc_table[tbl_idx] ^ (c << 8)) & 0xffff\n",
    "\n",
    "    return c & 0xffff"
   ]
  },
  {
   "cell_type": "code",
   "execution_count": 4,
   "metadata": {},
   "outputs": [],
   "source": [
    "crc_ok = np.array([crc(d) == 0 for d in data])\n",
    "frame_count = data[crc_ok,:2].ravel().view('uint16')"
   ]
  },
  {
   "cell_type": "code",
   "execution_count": 5,
   "metadata": {},
   "outputs": [
    {
     "data": {
      "text/plain": [
       "Text(0.5, 0, 'Frame number')"
      ]
     },
     "execution_count": 5,
     "metadata": {},
     "output_type": "execute_result"
    },
    {
     "data": {
      "image/png": "[encoded data removed]",
      "text/plain": [
       "<Figure size 864x432 with 1 Axes>"
      ]
     },
     "metadata": {},
     "output_type": "display_data"
    }
   ],
   "source": [
    "plt.figure(figsize = (12,6), facecolor = 'w')\n",
    "plt.plot(frame_count)\n",
    "plt.title('Frame count')\n",
    "plt.ylabel('Frame count field')\n",
    "plt.xlabel('Frame number')"
   ]
  },
  {
   "cell_type": "code",
   "execution_count": 6,
   "metadata": {},
   "outputs": [
    {
     "data": {
      "text/plain": [
       "[<matplotlib.lines.Line2D at 0x7efdbd970390>]"
      ]
     },
     "execution_count": 6,
     "metadata": {},
     "output_type": "execute_result"
    },
    {
     "data": {
      "image/png": "[encoded data removed]",
      "text/plain": [
       "<Figure size 432x288 with 1 Axes>"
      ]
     },
     "metadata": {
      "needs_background": "light"
     },
     "output_type": "display_data"
    }
   ],
   "source": [
    "fc_diff = np.diff(frame_count.astype('int'))\n",
    "plt.plot(fc_diff)"
   ]
  },
  {
   "cell_type": "code",
   "execution_count": 7,
   "metadata": {},
   "outputs": [
    {
     "data": {
      "text/plain": [
       "array([    5,  3126,  6935,  6939, 11414, 11418, 16088, 16092])"
      ]
     },
     "execution_count": 7,
     "metadata": {},
     "output_type": "execute_result"
    }
   ],
   "source": [
    "fc_jump = np.where(np.abs(fc_diff) > 100)[0] + 1\n",
    "fc_jump"
   ]
  },
  {
   "cell_type": "code",
   "execution_count": 8,
   "metadata": {},
   "outputs": [
    {
     "data": {
      "text/plain": [
       "[slice(0, 5, None),\n",
       " slice(5, 3126, None),\n",
       " slice(3126, 6935, None),\n",
       " slice(6935, 6939, None),\n",
       " slice(6939, 11414, None),\n",
       " slice(11414, 11418, None),\n",
       " slice(11418, 16088, None),\n",
       " slice(16088, 16092, None),\n",
       " slice(16092, None, None)]"
      ]
     },
     "execution_count": 8,
     "metadata": {},
     "output_type": "execute_result"
    }
   ],
   "source": [
    "frame_slices = [slice(0,fc_jump[0])] + [slice(a,b) for a,b in zip(fc_jump[:-1],fc_jump[1:])] + [slice(fc_jump[-1], None)]\n",
    "frame_slices"
   ]
  },
  {
   "cell_type": "markdown",
   "metadata": {},
   "source": [
    "Write frames to a file according to their frame number. We do a majority voting to select among different frames with the same frame number (there are corrupted frames with good CRC). The file has gaps with zeros where frames are missing."
   ]
  },
  {
   "cell_type": "code",
   "execution_count": 9,
   "metadata": {},
   "outputs": [
    {
     "name": "stdout",
     "output_type": "stream",
     "text": [
      "Slice #0 slice(0, 5, None)\n",
      "Skipped 0 / 21845 frames\n",
      "Slice #1 slice(5, 3126, None)\n",
      "Skipped 15 / 948 frames\n",
      "Slice #2 slice(3126, 6935, None)\n",
      "Skipped 30 / 948 frames\n",
      "Slice #3 slice(6935, 6939, None)\n",
      "Skipped 0 / 21845 frames\n",
      "Slice #4 slice(6939, 11414, None)\n",
      "Skipped 25 / 948 frames\n",
      "Slice #5 slice(11414, 11418, None)\n",
      "Skipped 0 / 21845 frames\n",
      "Slice #6 slice(11418, 16088, None)\n",
      "Skipped 26 / 948 frames\n",
      "Slice #7 slice(16088, 16092, None)\n",
      "Skipped 0 / 21845 frames\n",
      "Slice #8 slice(16092, None, None)\n",
      "Skipped 37 / 948 frames\n"
     ]
    }
   ],
   "source": [
    "frame_size = 30\n",
    "for j,sl in enumerate(frame_slices):\n",
    "    print(f'Slice #{j}', sl)\n",
    "    frame_count_unique = np.unique(frame_count[sl])\n",
    "    print('Skipped', np.sum(np.diff(frame_count_unique)-1), '/', np.max(frame_count_unique), 'frames')\n",
    "    with open(f'/tmp/file_{j}', 'wb') as f:\n",
    "        for count in frame_count_unique:\n",
    "            valid_frames = data[crc_ok][sl][frame_count[sl] == count]\n",
    "            counter = Counter([bytes(frame[2:-2]) for frame in valid_frames])\n",
    "            f.seek(count * frame_size)\n",
    "            f.write(counter.most_common()[0][0])"
   ]
  },
  {
   "cell_type": "markdown",
   "metadata": {},
   "source": [
    "Write all frames to the same file. This will work, assuming that it was the same file transmitted multiple times."
   ]
  },
  {
   "cell_type": "code",
   "execution_count": 10,
   "metadata": {},
   "outputs": [
    {
     "name": "stdout",
     "output_type": "stream",
     "text": [
      "Skipped 0 / 949 frames\n"
     ]
    }
   ],
   "source": [
    "frame_count_unique = np.unique(frame_count)[:-1]\n",
    "print('Skipped', np.sum(np.diff(frame_count_unique)-1), '/', len(frame_count_unique), 'frames')\n",
    "with open(f'/tmp/file_all', 'wb') as f:\n",
    "    for count in frame_count_unique:\n",
    "        valid_frames = data[crc_ok][frame_count == count]\n",
    "        counter = Counter([bytes(frame[2:-2]) for frame in valid_frames])\n",
    "        f.seek(count * frame_size)\n",
    "        f.write(counter.most_common()[0][0])"
   ]
  },
  {
   "cell_type": "markdown",
   "metadata": {},
   "source": [
    "Show packets that come in one-packet slices."
   ]
  },
  {
   "cell_type": "code",
   "execution_count": 11,
   "metadata": {},
   "outputs": [
    {
     "name": "stdout",
     "output_type": "stream",
     "text": [
      "55555555555555555555555555555555555555555555555555555555a0760000\n",
      "55555555555555555555555555555555555555555555555555555555a0760000\n",
      "55555555555555555555555555555555555555555555555555555555a0760000\n",
      "55555555555555555555555555555555555555555555555555555555a0760000\n"
     ]
    }
   ],
   "source": [
    "for sl in frame_slices:\n",
    "    if np.unique(frame_count[sl]).size == 1:\n",
    "        counter = Counter([bytes(frame[:-2]) for frame in data[crc_ok][sl]])\n",
    "        print(counter.most_common()[0][0].hex())"
   ]
  }
 ],
 "metadata": {
  "kernelspec": {
   "display_name": "Python 3",
   "language": "python",
   "name": "python3"
  },
  "language_info": {
   "codemirror_mode": {
    "name": "ipython",
    "version": 3
   },
   "file_extension": ".py",
   "mimetype": "text/x-python",
   "name": "python",
   "nbconvert_exporter": "python",
   "pygments_lexer": "ipython3",
   "version": "3.7.9"
  }
 },
 "nbformat": 4,
 "nbformat_minor": 2
}
