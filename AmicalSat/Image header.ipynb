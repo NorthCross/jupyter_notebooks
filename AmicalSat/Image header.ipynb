{
 "cells": [
  {
   "cell_type": "code",
   "execution_count": 1,
   "metadata": {},
   "outputs": [],
   "source": [
    "from construct import *\n",
    "import datetime"
   ]
  },
  {
   "cell_type": "code",
   "execution_count": 2,
   "metadata": {},
   "outputs": [],
   "source": [
    "ImageHeader = Struct(\n",
    "    'timestamp' / Int32ul,\n",
    "    'set_point' / Float32b[4],\n",
    "    'estimated_point' / Float32b[4],\n",
    "    'lat_lon' / Float32b[2],\n",
    "    'gyroscope' / Int16ul[3],\n",
    "    'magnetometer' / Int16ul[3],\n",
    "    'earth_magnetic_model' / Int16ul[5],\n",
    "    'sun_sensor' / Int16ul[2],\n",
    "    'pixel_resolution' / Int16ul,\n",
    "    'compression' / Int16ul,\n",
    "    'dummy0' / Bytes(2),\n",
    "    'picture_size' / Int32ul,\n",
    "    'sensor_gains' / Int16ul[5], # (roi1_misc2, diggain_1, diggain_2, roi1_misc1, diggain3)\n",
    "    'dummy1' / Bytes(2),\n",
    "    'exposure_time' / Int32ul,\n",
    "    'sensor_temperature' / Int16ul,\n",
    "    'dummy' / Bytes(412),\n",
    "    'crc' / Int16ul\n",
    ")"
   ]
  },
  {
   "cell_type": "code",
   "execution_count": 3,
   "metadata": {},
   "outputs": [],
   "source": [
    "file = 'in_orbit/2020-10-05/compressed_image_with_header'\n",
    "with open(file, 'rb') as f:\n",
    "    h = ImageHeader.parse(f.read())"
   ]
  },
  {
   "cell_type": "code",
   "execution_count": 4,
   "metadata": {},
   "outputs": [
    {
     "name": "stdout",
     "output_type": "stream",
     "text": [
      "Container: \n",
      "    timestamp = 1601326224\n",
      "    set_point = ListContainer: \n",
      "        -3.0316488252093987e-13\n",
      "        -3.0316488252093987e-13\n",
      "        -3.0316488252093987e-13\n",
      "        -3.0316488252093987e-13\n",
      "    estimated_point = ListContainer: \n",
      "        -3.0316488252093987e-13\n",
      "        -3.0316488252093987e-13\n",
      "        -3.0316488252093987e-13\n",
      "        -3.0316488252093987e-13\n",
      "    lat_lon = ListContainer: \n",
      "        -3.0316488252093987e-13\n",
      "        -3.0316488252093987e-13\n",
      "    gyroscope = ListContainer: \n",
      "        43690\n",
      "        43690\n",
      "        43690\n",
      "    magnetometer = ListContainer: \n",
      "        43690\n",
      "        43690\n",
      "        43690\n",
      "    earth_magnetic_model = ListContainer: \n",
      "        43690\n",
      "        43690\n",
      "        43690\n",
      "        43690\n",
      "        43690\n",
      "    sun_sensor = ListContainer: \n",
      "        43690\n",
      "        43690\n",
      "    pixel_resolution = 8\n",
      "    compression = 1\n",
      "    dummy0 = b'\\xaa\\xaa' (total 2)\n",
      "    picture_size = 27934\n",
      "    sensor_gains = ListContainer: \n",
      "        64\n",
      "        32896\n",
      "        32896\n",
      "        0\n",
      "        1920\n",
      "    dummy1 = b'\\xaa\\xaa' (total 2)\n",
      "    exposure_time = 1000000\n",
      "    sensor_temperature = 223\n",
      "    dummy = b'\\xaa\\xaa\\xaa\\xaa\\xaa\\xaa\\xaa\\xaa\\xaa\\xaa\\xaa\\xaa\\xaa\\xaa\\xaa\\xaa'... (truncated, total 412)\n",
      "    crc = 10481\n"
     ]
    }
   ],
   "source": [
    "print(h)"
   ]
  },
  {
   "cell_type": "code",
   "execution_count": 5,
   "metadata": {},
   "outputs": [
    {
     "name": "stdout",
     "output_type": "stream",
     "text": [
      "2020-09-28T20:50:24\n"
     ]
    }
   ],
   "source": [
    "timestamp = datetime.datetime(1970, 1, 1) + datetime.timedelta(seconds = h.timestamp)\n",
    "print(timestamp.isoformat())"
   ]
  }
 ],
 "metadata": {
  "kernelspec": {
   "display_name": "Python 3",
   "language": "python",
   "name": "python3"
  },
  "language_info": {
   "codemirror_mode": {
    "name": "ipython",
    "version": 3
   },
   "file_extension": ".py",
   "mimetype": "text/x-python",
   "name": "python",
   "nbconvert_exporter": "python",
   "pygments_lexer": "ipython3",
   "version": "3.7.9"
  }
 },
 "nbformat": 4,
 "nbformat_minor": 4
}
