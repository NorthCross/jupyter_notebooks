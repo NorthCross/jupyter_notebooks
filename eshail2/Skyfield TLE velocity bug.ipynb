{
 "cells": [
  {
   "cell_type": "code",
   "execution_count": 1,
   "metadata": {},
   "outputs": [],
   "source": [
    "import skyfield.api\n",
    "from skyfield.sgp4lib import EarthSatellite\n",
    "from skyfield.constants import AU_KM, DAY_S\n",
    "from skyfield.functions import length_of\n",
    "import numpy as np"
   ]
  },
  {
   "cell_type": "markdown",
   "metadata": {},
   "source": [
    "**Update 2020-07-17:** this has been re-run with the last version of Skyfield, where the problem has been fixed (see [#224](https://github.com/skyfielders/python-skyfield/issues/224#issuecomment-660119651)). I have mantained all the comments about the problems that Skyfield had, so now they don't match the results."
   ]
  },
  {
   "cell_type": "markdown",
   "metadata": {},
   "source": [
    "As a test TLE we use a TLE for Es'hail, which is in a nearly GEO orbit at 24ºE."
   ]
  },
  {
   "cell_type": "code",
   "execution_count": 2,
   "metadata": {},
   "outputs": [
    {
     "data": {
      "text/plain": [
       "CalendarTuple(year=2018, month=12, day=1, hour=21, minute=27, second=48.5317263007164)"
      ]
     },
     "execution_count": 2,
     "metadata": {},
     "output_type": "execute_result"
    }
   ],
   "source": [
    "sat = EarthSatellite('1 43700U 18090A   18335.89431171 +.00000133 +00000-0 +00000-0 0  9993',\\\n",
    "                     '2 43700 000.0858 245.4352 0001094 006.6237 164.6135 01.00274015000309')\n",
    "\n",
    "sat.epoch.utc"
   ]
  },
  {
   "cell_type": "markdown",
   "metadata": {},
   "source": [
    "The TLE epoch is near 2018-12-01 21 UTC. For simplicity, we compute the position and velocity of the satellite at 21:00:00 UTC and 21:00:01 UTC."
   ]
  },
  {
   "cell_type": "code",
   "execution_count": 3,
   "metadata": {},
   "outputs": [],
   "source": [
    "ts = skyfield.api.load.timescale()\n",
    "t0 = ts.utc(2018, 12, 1, 21, 0, 0)\n",
    "t1 = ts.utc(2018, 12, 1, 21, 0, 1)\n",
    "rv0 = sat.at(t0)\n",
    "rv1 = sat.at(t1)"
   ]
  },
  {
   "cell_type": "markdown",
   "metadata": {},
   "source": [
    "The computation below should give something close to zero, as we are approximating the position at `t1` by the position plus velocity at `t0`."
   ]
  },
  {
   "cell_type": "code",
   "execution_count": 4,
   "metadata": {},
   "outputs": [
    {
     "data": {
      "text/plain": [
       "array([-1.08401336e-05, -1.40169930e-04,  2.14398141e-06])"
      ]
     },
     "execution_count": 4,
     "metadata": {},
     "output_type": "execute_result"
    }
   ],
   "source": [
    "rv1.position.km - rv0.position.km - rv0.velocity.km_per_s"
   ]
  },
  {
   "cell_type": "markdown",
   "metadata": {},
   "source": [
    "The Z component should be much smaller. Indeed, let us compare the Z component of the velocity estimated by taking the position at `t1` minus the position at `t0`, with the velocity computed at `t0`. We see that they differ by an order of magnitude."
   ]
  },
  {
   "cell_type": "code",
   "execution_count": 5,
   "metadata": {},
   "outputs": [
    {
     "data": {
      "text/plain": [
       "-0.00026495564615558465"
      ]
     },
     "execution_count": 5,
     "metadata": {},
     "output_type": "execute_result"
    }
   ],
   "source": [
    "rv1.position.km[2] - rv0.position.km[2]"
   ]
  },
  {
   "cell_type": "code",
   "execution_count": 6,
   "metadata": {},
   "outputs": [
    {
     "data": {
      "text/plain": [
       "-0.0002670996275668849"
      ]
     },
     "execution_count": 6,
     "metadata": {},
     "output_type": "execute_result"
    }
   ],
   "source": [
    "rv0.velocity.km_per_s[2]"
   ]
  },
  {
   "cell_type": "markdown",
   "metadata": {},
   "source": [
    "If we ask the satellite to compute its position in ITRF instead of GCRS, then the problem doesn't happen."
   ]
  },
  {
   "cell_type": "code",
   "execution_count": 7,
   "metadata": {},
   "outputs": [],
   "source": [
    "rv0_ITRF = sat.ITRF_position_velocity_error(t0)[:2]\n",
    "r0_ITRF = rv0_ITRF[0] * AU_KM\n",
    "v0_ITRF = rv0_ITRF[1] * AU_KM / DAY_S\n",
    "rv1_ITRF = sat.ITRF_position_velocity_error(t1)[:2]\n",
    "r1_ITRF = rv1_ITRF[0] * AU_KM\n",
    "v1_ITRF = rv1_ITRF[1] * AU_KM / DAY_S"
   ]
  },
  {
   "cell_type": "markdown",
   "metadata": {},
   "source": [
    "The same calculation for the Z component now gives a much smaller error."
   ]
  },
  {
   "cell_type": "code",
   "execution_count": 8,
   "metadata": {},
   "outputs": [
    {
     "data": {
      "text/plain": [
       "array([ 2.56276996e-05, -6.11424304e-05,  2.16614035e-06])"
      ]
     },
     "execution_count": 8,
     "metadata": {},
     "output_type": "execute_result"
    }
   ],
   "source": [
    "r1_ITRF - r0_ITRF - v0_ITRF"
   ]
  },
  {
   "cell_type": "markdown",
   "metadata": {},
   "source": [
    "If we compare the Z components of the velocity estimated by taking differences or by getting the velocity at `t0`, we see that they are very close."
   ]
  },
  {
   "cell_type": "code",
   "execution_count": 9,
   "metadata": {},
   "outputs": [
    {
     "data": {
      "text/plain": [
       "-0.00453944263882633"
      ]
     },
     "execution_count": 9,
     "metadata": {},
     "output_type": "execute_result"
    }
   ],
   "source": [
    "r1_ITRF[2] - r0_ITRF[2]"
   ]
  },
  {
   "cell_type": "code",
   "execution_count": 10,
   "metadata": {},
   "outputs": [
    {
     "data": {
      "text/plain": [
       "-0.00454160877917917"
      ]
     },
     "execution_count": 10,
     "metadata": {},
     "output_type": "execute_result"
    }
   ],
   "source": [
    "v0_ITRF[2]"
   ]
  },
  {
   "cell_type": "markdown",
   "metadata": {},
   "source": [
    "So it seems there is a problem with how the velocity is handled by `ITRF_to_GCRS2()`."
   ]
  },
  {
   "cell_type": "markdown",
   "metadata": {},
   "source": [
    "**Update 2019-07-24:** This shows how this bug affects Doppler computations."
   ]
  },
  {
   "cell_type": "code",
   "execution_count": 11,
   "metadata": {},
   "outputs": [],
   "source": [
    "observer  = skyfield.api.Topos(latitude = 40.595865, longitude = -3.699069, elevation_m = 800)\n",
    "los0 = (sat - observer).at(t0)\n",
    "los1 = (sat - observer).at(t1)"
   ]
  },
  {
   "cell_type": "markdown",
   "metadata": {},
   "source": [
    "Doppler computed as projection of velocity vector onto line of sight vector:"
   ]
  },
  {
   "cell_type": "code",
   "execution_count": 12,
   "metadata": {},
   "outputs": [
    {
     "data": {
      "text/plain": [
       "0.0005891289567179068"
      ]
     },
     "execution_count": 12,
     "metadata": {},
     "output_type": "execute_result"
    }
   ],
   "source": [
    "np.sum(los0.velocity.km_per_s * los0.position.km) / length_of(los0.position.km)"
   ]
  },
  {
   "cell_type": "code",
   "execution_count": 13,
   "metadata": {},
   "outputs": [
    {
     "data": {
      "text/plain": [
       "0.0005891225228701842"
      ]
     },
     "execution_count": 13,
     "metadata": {},
     "output_type": "execute_result"
    }
   ],
   "source": [
    "np.sum(los1.velocity.km_per_s * los1.position.km) / length_of(los1.position.km)"
   ]
  },
  {
   "cell_type": "markdown",
   "metadata": {},
   "source": [
    "If instead we compute the velocity vector subtracting the positions at t1 and t0:"
   ]
  },
  {
   "cell_type": "code",
   "execution_count": 14,
   "metadata": {},
   "outputs": [
    {
     "data": {
      "text/plain": [
       "0.00048325541071942595"
      ]
     },
     "execution_count": 14,
     "metadata": {},
     "output_type": "execute_result"
    }
   ],
   "source": [
    "v = los1.position.km - los0.position.km\n",
    "np.sum(v * los0.position.km) / length_of(los0.position.km)"
   ]
  },
  {
   "cell_type": "markdown",
   "metadata": {},
   "source": [
    "There is a huge difference (a factor of 2) between both ways of computing the Doppler. The second way gives the correct result."
   ]
  }
 ],
 "metadata": {
  "kernelspec": {
   "display_name": "Python 3",
   "language": "python",
   "name": "python3"
  },
  "language_info": {
   "codemirror_mode": {
    "name": "ipython",
    "version": 3
   },
   "file_extension": ".py",
   "mimetype": "text/x-python",
   "name": "python",
   "nbconvert_exporter": "python",
   "pygments_lexer": "ipython3",
   "version": "3.7.8"
  }
 },
 "nbformat": 4,
 "nbformat_minor": 2
}
