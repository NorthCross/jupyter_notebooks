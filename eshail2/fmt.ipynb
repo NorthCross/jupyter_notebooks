{
 "cells": [
  {
   "cell_type": "code",
   "execution_count": 1,
   "metadata": {
    "collapsed": true
   },
   "outputs": [],
   "source": [
    "%matplotlib inline\n",
    "import numpy as np\n",
    "import matplotlib.pyplot as plt\n",
    "import matplotlib.dates as mdates\n",
    "import xarray as xr"
   ]
  },
  {
   "cell_type": "code",
   "execution_count": 2,
   "metadata": {
    "collapsed": true
   },
   "outputs": [],
   "source": [
    "path = '/home/daniel/.local/share/WSJT-X - test/fmt.all'\n",
    "starting_day = '2018-11-26'\n",
    "frequency = 10706e6"
   ]
  },
  {
   "cell_type": "code",
   "execution_count": 3,
   "metadata": {
    "collapsed": true
   },
   "outputs": [],
   "source": [
    "def load_data(path, starting_day, frequency):\n",
    "    with open(path) as f:\n",
    "        data = [(s.replace('*', ' ').split()[0], float(s.split()[4]), float(s.split()[6])) for s in f.readlines()]\n",
    "    timestamps = np.array([np.datetime64(starting_day + 'T' + d[0]) for d in data])\n",
    "    # correct rollover\n",
    "    timestamps += np.concatenate(([0], np.cumsum(np.diff(np.array(timestamps)) < np.timedelta64(0)))) * np.timedelta64(3600*24)\n",
    "    ppb = np.array([(d[1]-500)/frequency*1e9 for d in data])\n",
    "    snr = np.array([d[2] for d in data])\n",
    "    data = xr.Dataset({'ppb' : (['time'], ppb), 'snr' : (['time'], snr)}, coords = {'time':timestamps})\n",
    "    #data.attrs['units'] = 'ppb'\n",
    "    #data.name = 'Frequency offset'\n",
    "    return data"
   ]
  },
  {
   "cell_type": "code",
   "execution_count": 4,
   "metadata": {},
   "outputs": [],
   "source": [
    "load_data(path, starting_day, frequency).to_netcdf('ppb.nc')"
   ]
  }
 ],
 "metadata": {
  "kernelspec": {
   "display_name": "Python 3",
   "language": "python3",
   "name": "python3"
  },
  "language_info": {
   "codemirror_mode": {
    "name": "ipython",
    "version": 3
   },
   "file_extension": ".py",
   "mimetype": "text/x-python",
   "name": "python",
   "nbconvert_exporter": "python",
   "pygments_lexer": "ipython3",
   "version": "3.6.5"
  }
 },
 "nbformat": 4,
 "nbformat_minor": 2
}
