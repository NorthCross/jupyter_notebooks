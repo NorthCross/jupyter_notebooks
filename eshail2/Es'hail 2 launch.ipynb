{
 "cells": [
  {
   "cell_type": "code",
   "execution_count": 1,
   "metadata": {
    "collapsed": true
   },
   "outputs": [],
   "source": [
    "%matplotlib inline\n",
    "\n",
    "import ephem\n",
    "\n",
    "import numpy as np\n",
    "import matplotlib.pyplot as plt"
   ]
  },
  {
   "cell_type": "code",
   "execution_count": 2,
   "metadata": {
    "collapsed": true
   },
   "outputs": [],
   "source": [
    "tles = \"\"\"0 ES'HAIL 2\n",
    "1 43700U 18090A   18319.95140571 -.00000497  00000-0  00000+0 0  9996\n",
    "2 43700  25.0155 199.6281 7401796 178.1843  52.4356  2.15442580    02\n",
    "\"\"\"\n",
    "\n",
    "sat = ephem.readtle(*tles.split('\\n')[:3])"
   ]
  },
  {
   "cell_type": "code",
   "execution_count": 3,
   "metadata": {
    "collapsed": true
   },
   "outputs": [],
   "source": [
    "mu = 3.986004418e14\n",
    "\n",
    "def epochmjd(sat):\n",
    "    return sat._epoch - 14980 \n",
    "\n",
    "def sma(sat):\n",
    "    n = sat._n / (3600 * 24) # in revolutions / second\n",
    "    a = (mu/(4*np.pi**2*n**2))**(1/3) # in metres\n",
    "    return a * 1e-3 # in km\n",
    "\n",
    "def ecc(sat):\n",
    "    return sat._e\n",
    "\n",
    "def inc(sat):\n",
    "    return np.rad2deg(sat._inc)\n",
    "\n",
    "def raan(sat):\n",
    "    return np.rad2deg(sat._raan)\n",
    "\n",
    "def aop(sat):\n",
    "    return np.rad2deg(sat._ap)\n",
    "\n",
    "def ma2ta(ma_deg, eccentricity, kepler_iterations = 100):\n",
    "    M = float(ma_deg)\n",
    "    e = eccentricity\n",
    "    # Solve Kepler equation for eccentric anomaly by iteration\n",
    "    E = M\n",
    "    for _ in range(kepler_iterations):\n",
    "        E = M + e * np.sin(E)\n",
    "    nu = 2*np.angle(np.sqrt(1-e)*np.cos(E/2) + 1j*np.sqrt(1+e)*np.sin(E/2))\n",
    "    return np.rad2deg(nu)\n",
    "\n",
    "def ta(sat):\n",
    "    return ma2ta(sat._M, sat._e)"
   ]
  },
  {
   "cell_type": "code",
   "execution_count": 4,
   "metadata": {
    "collapsed": true
   },
   "outputs": [],
   "source": [
    "def gmat_keplerian_spacecraft(sat, spacecraft_name, mass = 5300, drag_area = 15, srp_area = 15):\n",
    "    name = spacecraft_name\n",
    "    return f\"\"\"Create Spacecraft {name};\n",
    "{name}.DateFormat = UTCModJulian;\n",
    "{name}.Epoch = '{epochmjd(sat)}';\n",
    "{name}.CoordinateSystem = EarthMJ2000Eq;\n",
    "{name}.DisplayStateType = Keplerian;\n",
    "{name}.SMA = {sma(sat)};\n",
    "{name}.ECC = {ecc(sat)};\n",
    "{name}.INC = {inc(sat)};\n",
    "{name}.RAAN = {raan(sat)};\n",
    "{name}.AOP = {aop(sat)};\n",
    "{name}.TA = {ta(sat)};\n",
    "{name}.DryMass = {mass};\n",
    "{name}.DragArea = {drag_area};\n",
    "{name}.SRPArea = {drag_area};\n",
    "\"\"\""
   ]
  },
  {
   "cell_type": "code",
   "execution_count": 5,
   "metadata": {},
   "outputs": [
    {
     "name": "stdout",
     "output_type": "stream",
     "text": [
      "Create Spacecraft Eshail2;\n",
      "Eshail2.DateFormat = UTCModJulian;\n",
      "Eshail2.Epoch = '28438.451405710002';\n",
      "Eshail2.CoordinateSystem = EarthMJ2000Eq;\n",
      "Eshail2.DisplayStateType = Keplerian;\n",
      "Eshail2.SMA = 25322.941234489062;\n",
      "Eshail2.ECC = 0.7401795983314514;\n",
      "Eshail2.INC = 25.015499114990234;\n",
      "Eshail2.RAAN = 199.6280975341797;\n",
      "Eshail2.AOP = 178.18429565429688;\n",
      "Eshail2.TA = 140.81615297409934;\n",
      "Eshail2.DryMass = 5300;\n",
      "Eshail2.DragArea = 15;\n",
      "Eshail2.SRPArea = 15;\n",
      "\n"
     ]
    }
   ],
   "source": [
    "print(gmat_keplerian_spacecraft(sat, 'Eshail2'))"
   ]
  },
  {
   "cell_type": "markdown",
   "metadata": {},
   "source": [
    "Apogee radius (GEO apogee is 42164km)"
   ]
  },
  {
   "cell_type": "code",
   "execution_count": 6,
   "metadata": {},
   "outputs": [
    {
     "data": {
      "text/plain": [
       "44066.46570600413"
      ]
     },
     "execution_count": 6,
     "metadata": {},
     "output_type": "execute_result"
    }
   ],
   "source": [
    "sma(sat) * (1 + ecc(sat))"
   ]
  },
  {
   "cell_type": "markdown",
   "metadata": {},
   "source": [
    "Apogee altitude"
   ]
  },
  {
   "cell_type": "code",
   "execution_count": 7,
   "metadata": {},
   "outputs": [
    {
     "data": {
      "text/plain": [
       "37695.46570600413"
      ]
     },
     "execution_count": 7,
     "metadata": {},
     "output_type": "execute_result"
    }
   ],
   "source": [
    "earth_radius = 6371\n",
    "sma(sat) * (1 + ecc(sat)) - earth_radius"
   ]
  },
  {
   "cell_type": "markdown",
   "metadata": {},
   "source": [
    "Perigee altitude"
   ]
  },
  {
   "cell_type": "code",
   "execution_count": 8,
   "metadata": {},
   "outputs": [
    {
     "data": {
      "text/plain": [
       "208.41676297399954"
      ]
     },
     "execution_count": 8,
     "metadata": {},
     "output_type": "execute_result"
    }
   ],
   "source": [
    "sma(sat) * (1 - ecc(sat)) - earth_radius"
   ]
  }
 ],
 "metadata": {
  "kernelspec": {
   "display_name": "Python 3",
   "language": "python3",
   "name": "python3"
  },
  "language_info": {
   "codemirror_mode": {
    "name": "ipython",
    "version": 3
   },
   "file_extension": ".py",
   "mimetype": "text/x-python",
   "name": "python",
   "nbconvert_exporter": "python",
   "pygments_lexer": "ipython3",
   "version": "3.6.5"
  }
 },
 "nbformat": 4,
 "nbformat_minor": 2
}
