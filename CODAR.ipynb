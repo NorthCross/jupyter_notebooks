{
 "cells": [
  {
   "cell_type": "code",
   "execution_count": null,
   "metadata": {
    "collapsed": true
   },
   "outputs": [],
   "source": [
    "%matplotlib inline\n",
    "\n",
    "import numpy as np\n",
    "import matplotlib.pyplot as plt\n",
    "\n",
    "# Larger figure size\n",
    "fig_size = [14, 10]\n",
    "plt.rcParams['figure.figsize'] = fig_size"
   ]
  },
  {
   "cell_type": "code",
   "execution_count": null,
   "metadata": {
    "collapsed": true
   },
   "outputs": [],
   "source": [
    "x = np.memmap('/home/daniel/codar_dechirp', mode='r', dtype='float32')"
   ]
  },
  {
   "cell_type": "code",
   "execution_count": null,
   "metadata": {},
   "outputs": [],
   "source": [
    "chunk_size = 1000\n",
    "step = 3600*24\n",
    "averaging = 45 # (1920 pixels per day)\n",
    "a, b = 400, 900\n",
    "for start in range(0, x.size//chunk_size, step):\n",
    "    end = start + step\n",
    "    piece = np.reshape(x[:x.size//chunk_size*chunk_size], (x.size//chunk_size, chunk_size))[start:end,:]\n",
    "    \n",
    "    #roll_each = 95\n",
    "    #for j in range(piece.shape[0]):\n",
    "    #    piece[j,:] = np.roll(piece[j,:], (start + j)//roll_each)\n",
    "                   \n",
    "    piece = np.average(np.reshape(piece[:piece.shape[0]//averaging*averaging,:], (piece.shape[0]//averaging, averaging, piece.shape[1])), axis=1)\n",
    "    \n",
    "    plt.imsave('codar_{}.png'.format(start//step), np.rot90(10*np.log10(piece[:,a:b])), cmap='viridis', vmax=30, vmin=-25)"
   ]
  }
 ],
 "metadata": {
  "kernelspec": {
   "display_name": "Python 3",
   "language": "python3.4",
   "name": "python3"
  },
  "language_info": {
   "codemirror_mode": {
    "name": "ipython",
    "version": 3
   },
   "file_extension": ".py",
   "mimetype": "text/x-python",
   "name": "python",
   "nbconvert_exporter": "python",
   "pygments_lexer": "ipython3",
   "version": "3.4.5"
  }
 },
 "nbformat": 4,
 "nbformat_minor": 2
}
