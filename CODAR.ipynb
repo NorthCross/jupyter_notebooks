{
 "cells": [
  {
   "cell_type": "code",
   "execution_count": 9,
   "metadata": {
    "collapsed": true
   },
   "outputs": [],
   "source": [
    "%matplotlib inline\n",
    "\n",
    "import numpy as np\n",
    "import matplotlib.pyplot as plt\n",
    "\n",
    "# Larger figure size\n",
    "fig_size = [14, 10]\n",
    "plt.rcParams['figure.figsize'] = fig_size"
   ]
  },
  {
   "cell_type": "code",
   "execution_count": 10,
   "metadata": {},
   "outputs": [],
   "source": [
    "x = np.memmap('/home/daniel/codar_dechirp_f32_20171215_145510', mode='r', dtype='float32')"
   ]
  },
  {
   "cell_type": "code",
   "execution_count": 11,
   "metadata": {},
   "outputs": [
    {
     "name": "stderr",
     "output_type": "stream",
     "text": [
      "/usr/lib64/python3.4/site-packages/ipykernel_launcher.py:20: RuntimeWarning: divide by zero encountered in log10\n"
     ]
    }
   ],
   "source": [
    "chunk_size = 1000\n",
    "step = 3600*24\n",
    "averaging = 45 # (1920 pixels per day)\n",
    "a, b = 300, 850\n",
    "begin = 3600*8 + 3310 # start at 6:00 UTC\n",
    "for chunk_num, start in enumerate(range(-begin, x.size//chunk_size, step)):\n",
    "    end = start + step\n",
    "    piece = np.reshape(x[:x.size//chunk_size*chunk_size], (x.size//chunk_size, chunk_size))[np.max((start, 0)):end,:]\n",
    "    if start < 0:\n",
    "        piece = np.concatenate((np.zeros((-start, chunk_size)), piece), axis=0)\n",
    "    elif piece.shape[0] < step:\n",
    "        piece = np.concatenate((piece, np.zeros((step - piece.shape[0], chunk_size))), axis=0)\n",
    "    \n",
    "    #roll_each = 95\n",
    "    #for j in range(piece.shape[0]):\n",
    "    #    piece[j,:] = np.roll(piece[j,:], (start + j)//roll_each)\n",
    "                   \n",
    "    piece = np.average(np.reshape(piece[:piece.shape[0]//averaging*averaging,:], (piece.shape[0]//averaging, averaging, piece.shape[1])), axis=1)\n",
    "    \n",
    "    plt.imsave('codar_{}.png'.format(chunk_num), np.rot90(10*np.log10(piece[:,a:b])), cmap='viridis', vmax=30, vmin=-25)"
   ]
  }
 ],
 "metadata": {
  "kernelspec": {
   "display_name": "Python 3",
   "language": "python3.4",
   "name": "python3"
  },
  "language_info": {
   "codemirror_mode": {
    "name": "ipython",
    "version": 3
   },
   "file_extension": ".py",
   "mimetype": "text/x-python",
   "name": "python",
   "nbconvert_exporter": "python",
   "pygments_lexer": "ipython3",
   "version": "3.4.5"
  }
 },
 "nbformat": 4,
 "nbformat_minor": 2
}
