{
 "cells": [
  {
   "cell_type": "markdown",
   "metadata": {},
   "source": [
    "# Analysis of DSLWP-B 2018-08-12 SSDV transmission\n",
    "\n",
    "This notebook analyzes SSDV transmissions made by DSLWP-B from the Moon."
   ]
  },
  {
   "cell_type": "code",
   "execution_count": 1,
   "metadata": {
    "collapsed": true
   },
   "outputs": [],
   "source": [
    "%matplotlib inline\n",
    "\n",
    "import numpy as np\n",
    "import scipy.signal\n",
    "import matplotlib.pyplot as plt"
   ]
  },
  {
   "cell_type": "markdown",
   "metadata": {},
   "source": [
    "We load a file containing the relevant GMSK transmission. The recording was done at the Dwingeloo radiotelescope and can be obtained [here](https://charon.camras.nl/public/dslwp-b/DSLWP-B_PI9CAM_2018-08-12T06_58_02_436.4MHz_40ksps_complex.raw). Remember to edit the path below to point to the correct file."
   ]
  },
  {
   "cell_type": "code",
   "execution_count": 2,
   "metadata": {
    "collapsed": true
   },
   "outputs": [],
   "source": [
    "x = np.fromfile('/home/daniel/Descargas/DSLWP-B_PI9CAM_2018-08-12T06_58_02_436.4MHz_40ksps_complex.raw', dtype='complex64')"
   ]
  },
  {
   "cell_type": "markdown",
   "metadata": {},
   "source": [
    "The 250bps GMSK signal is converted down to baseband and lowpass filtered to 800Hz."
   ]
  },
  {
   "cell_type": "code",
   "execution_count": 3,
   "metadata": {
    "collapsed": true
   },
   "outputs": [],
   "source": [
    "fs = 40e3\n",
    "f = 1500\n",
    "x = x * np.exp(-1j*2*np.pi*np.arange(x.size)*f/fs).astype('complex64')\n",
    "\n",
    "h = scipy.signal.firwin(1000, 0.01).astype('float32')\n",
    "x = scipy.signal.lfilter(h, 1, x).astype('complex64')"
   ]
  },
  {
   "cell_type": "markdown",
   "metadata": {},
   "source": [
    "Perform arctangent FSK demodulation."
   ]
  },
  {
   "cell_type": "code",
   "execution_count": 4,
   "metadata": {
    "collapsed": true
   },
   "outputs": [],
   "source": [
    "s = np.diff(np.angle(x).astype('float32'))"
   ]
  },
  {
   "cell_type": "markdown",
   "metadata": {},
   "source": [
    "Correct for phase wrapping."
   ]
  },
  {
   "cell_type": "code",
   "execution_count": 5,
   "metadata": {},
   "outputs": [],
   "source": [
    "s[s > np.pi] -= 2*np.pi\n",
    "s[s < -np.pi] += 2*np.pi"
   ]
  },
  {
   "cell_type": "markdown",
   "metadata": {},
   "source": [
    "We extract the soft bits by guessing the correct clock phase and decimating. No pulse shaping matched filtering has been done, and tracking of the clock frequency doesn't seem necessary either. The separation between the bits 1 and 0 is good enough for demodulation without bit errors.\n",
    "\n",
    "Note that we correct for the clock drift and for frequency offset and drift. This simple open loop clock recovery is enough to get good separation between the bits."
   ]
  },
  {
   "cell_type": "code",
   "execution_count": 6,
   "metadata": {},
   "outputs": [
    {
     "data": {
      "image/png": "[encoded data removed]",
      "text/plain": [
       "<Figure size 432x288 with 1 Axes>"
      ]
     },
     "metadata": {},
     "output_type": "display_data"
    }
   ],
   "source": [
    "phase = 50\n",
    "softbits = s[np.int32(np.arange(phase,s.size,160 - 0.0005))]\n",
    "softbits = softbits + 1e-8 * np.arange(softbits.size) - 0.005 # correction for frequency offset and drift\n",
    "plt.plot(softbits,'.')\n",
    "plt.axhline(y = 0, color='green')\n",
    "plt.ylim([-0.03,0.03]);"
   ]
  },
  {
   "cell_type": "markdown",
   "metadata": {},
   "source": [
    "Soft bits are now converted to hard bits."
   ]
  },
  {
   "cell_type": "code",
   "execution_count": 7,
   "metadata": {
    "collapsed": true
   },
   "outputs": [],
   "source": [
    "bits = (softbits > 0)*1"
   ]
  },
  {
   "cell_type": "markdown",
   "metadata": {},
   "source": [
    "We construct the CCSDS ASM used to mark the beginning of each Turbo coded word. The ASM is precoded as indicated by the CCSDS standard. See [this post](http://destevez.net/2018/06/dslwp-b-gmsk-detector/) for more information."
   ]
  },
  {
   "cell_type": "code",
   "execution_count": 8,
   "metadata": {
    "collapsed": true
   },
   "outputs": [],
   "source": [
    "asm = np.unpackbits(np.array([0x03,0x47,0x76,0xC7,0x27,0x28,0x95,0xB0], dtype='uint8'))\n",
    "asm_diff = asm[:-1] ^ asm[1:]\n",
    "asm_diff[1::2] ^= 1"
   ]
  },
  {
   "cell_type": "markdown",
   "metadata": {},
   "source": [
    "We correlated the received hard bits against the precoded ASM. The length of the ASM is 63 bits, so a correlation of 63 indicates that the ASM is found without bit errors. We see that the ASM is found 4 times without any bit errors. Each of these occurences of the ASM marks the start of a Turbo codeword containing a single SSDV frame."
   ]
  },
  {
   "cell_type": "code",
   "execution_count": 9,
   "metadata": {},
   "outputs": [
    {
     "data": {
      "text/plain": [
       "[<matplotlib.lines.Line2D at 0x7f5002345f98>]"
      ]
     },
     "execution_count": 9,
     "metadata": {},
     "output_type": "execute_result"
    },
    {
     "data": {
      "image/png": "[encoded data removed]",
      "text/plain": [
       "<Figure size 432x288 with 1 Axes>"
      ]
     },
     "metadata": {},
     "output_type": "display_data"
    }
   ],
   "source": [
    "asm_corr = scipy.signal.correlate(2*bits-1, 2*asm_diff.astype('float')-1)\n",
    "plt.plot(asm_corr)"
   ]
  },
  {
   "cell_type": "markdown",
   "metadata": {},
   "source": [
    "Note that all the ASMs have correlated without any bit errors."
   ]
  },
  {
   "cell_type": "code",
   "execution_count": 10,
   "metadata": {},
   "outputs": [
    {
     "data": {
      "text/plain": [
       "array([ 63.,  63.,  63.,  63.,  63.,  63.,  63.,  63.,  63.,  63.,  63.,\n",
       "        63.,  63.,  63.,  63.,  63.,  63.,  63.,  63.,  63.,  63.,  63.,\n",
       "        63.,  63.,  63.,  63.,  63.,  63.,  63.,  63.,  63.,  63.,  63.,\n",
       "        63.,  63.,  63.,  63.,  63.,  63.,  63.,  63.,  63.,  63.,  63.,\n",
       "        63.,  63.,  63.,  63.,  63.,  63.,  63.,  63.,  63.,  63.,  63.,\n",
       "        63.,  63.,  63.,  63.,  63.,  63.,  63.,  63.,  63.,  63.,  63.,\n",
       "        63.,  63.,  63.,  63.,  63.,  63.,  63.,  63.,  63.,  63.,  63.,\n",
       "        63.,  63.,  63.,  63.,  63.,  63.,  63.,  63.,  63.,  63.,  63.,\n",
       "        63.,  63.,  63.,  63.,  63.,  63.,  63.,  63.,  63.,  63.,  63.,\n",
       "        63.,  63.,  63.,  63.,  63.,  63.,  63.,  63.,  63.,  63.,  63.,\n",
       "        63.,  63.,  63.,  63.,  63.,  63.,  63.,  63.,  63.,  63.,  63.,\n",
       "        63.,  63.,  63.,  63.,  63.,  63.,  63.,  63.,  63.])"
      ]
     },
     "execution_count": 10,
     "metadata": {},
     "output_type": "execute_result"
    }
   ],
   "source": [
    "asm_corr[asm_corr > 40]"
   ]
  },
  {
   "cell_type": "markdown",
   "metadata": {},
   "source": [
    "We have found a total of 130 ASMs. Of these, 117 mark SSDV packets, 5 are telemetry packets transmitted before the SSDV transmission, and the remaining 8 are telemetry packets interleaved with the SSDV transmission."
   ]
  },
  {
   "cell_type": "code",
   "execution_count": 11,
   "metadata": {},
   "outputs": [
    {
     "data": {
      "text/plain": [
       "130"
      ]
     },
     "execution_count": 11,
     "metadata": {},
     "output_type": "execute_result"
    }
   ],
   "source": [
    "asm_corr[asm_corr > 40].size"
   ]
  },
  {
   "cell_type": "markdown",
   "metadata": {},
   "source": [
    "We now look at the distances between the ASMs. DSLWP-B uses Turbo codewords of 3576 symbols. Since the ASM is 64 bits long and Turbo codewords are transmitted back-to-back, without any gap between them, we expect a distance of 3640 bits. \n",
    "\n",
    "Note that before we have stated that the ASM is 63 bits long. This is because the GMSK precoder is differential, so the first bit of the ASM is not defined, as it depends on the preceding data. Thus, we only use the 63 bits of the ASM that are fixed when doing the correlation.\n",
    "\n",
    "Below we show the distances between the ASMs."
   ]
  },
  {
   "cell_type": "code",
   "execution_count": 12,
   "metadata": {},
   "outputs": [
    {
     "data": {
      "text/plain": [
       "array([30353, 31808, 29833, 13827, 49426,  3640,  3640,  3640,  3640,\n",
       "        3640,  3640,  3640,  3640,  3640,  3640,  3640,  3640,  3640,\n",
       "        3640,  3640,  3640,  3640,  3640,  3640,  3640,  3640,  3640,\n",
       "        3640,  3640,  3640,  3640,  3640,  3640,  3640,  3640,  3640,\n",
       "        3640,  3640,  3640,  3640,  3640,  3640,  3640,  3640,  3640,\n",
       "        3640,  3640,  3640,  3640,  3640,  3640,  3640,  3640,  3640,\n",
       "        3640,  3640,  3640,  3640,  3640,  3640,  3640,  3640,  3640,\n",
       "        3640,  3640,  3640,  3640,  3640,  3640,  3640,  3640,  3640,\n",
       "        3640,  3640,  3640,  3640,  3640,  3640,  3640,  3640,  3640,\n",
       "        3640,  3640,  3640,  3640,  3640,  3640,  3640,  3640,  3640,\n",
       "        3640,  3640,  3640,  3640,  3640,  3640,  3640,  3640,  3640,\n",
       "        3640,  3640,  3640,  3640,  3640,  3640,  3640,  3640,  3640,\n",
       "        3640,  3640,  3640,  3640,  3640,  3640,  3640,  3640,  3640,\n",
       "        3640,  3640,  3640,  3640,  3640,  3640,  3640,  3640,  3640,\n",
       "        3640,  3640,  3640])"
      ]
     },
     "execution_count": 12,
     "metadata": {},
     "output_type": "execute_result"
    }
   ],
   "source": [
    "np.diff(np.where(asm_corr > 40)[0])"
   ]
  },
  {
   "cell_type": "markdown",
   "metadata": {},
   "source": [
    "We see that there are no problems with Turbo words being cut short."
   ]
  }
 ],
 "metadata": {
  "kernelspec": {
   "display_name": "Python 3",
   "language": "python3",
   "name": "python3"
  },
  "language_info": {
   "codemirror_mode": {
    "name": "ipython",
    "version": 3
   },
   "file_extension": ".py",
   "mimetype": "text/x-python",
   "name": "python",
   "nbconvert_exporter": "python",
   "pygments_lexer": "ipython3",
   "version": "3.6.5"
  }
 },
 "nbformat": 4,
 "nbformat_minor": 2
}
