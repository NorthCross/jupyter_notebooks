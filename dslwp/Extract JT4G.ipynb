{
 "cells": [
  {
   "cell_type": "code",
   "execution_count": 1,
   "metadata": {
    "collapsed": true
   },
   "outputs": [],
   "source": [
    "%matplotlib inline\n",
    "import numpy as np\n",
    "import matplotlib.pyplot as plt\n",
    "import scipy.signal\n",
    "import scipy.io.wavfile"
   ]
  },
  {
   "cell_type": "code",
   "execution_count": 2,
   "metadata": {
    "collapsed": true
   },
   "outputs": [],
   "source": [
    "PATH = '/home/daniel/Descargas/DSLWP-B_PI9CAM_2018-10-19T17_53_35_435.4MHz_40ksps_complex.raw'"
   ]
  },
  {
   "cell_type": "code",
   "execution_count": 3,
   "metadata": {},
   "outputs": [],
   "source": [
    "starts = range(443,3000,600)\n",
    "length = 60\n",
    "fs = 40000\n",
    "fs2 = 12000\n",
    "freq_lo = -1000\n",
    "lo = np.exp(1j*2*np.pi*np.arange(fs*length)*freq_lo/fs)\n",
    "\n",
    "drift = -25/60\n",
    "\n",
    "for j, start in enumerate(starts):\n",
    "    with open(PATH, 'rb') as f:\n",
    "        f.seek(start * fs * 8)\n",
    "        n = start * fs\n",
    "        start_drift = n*(n-1)/2\n",
    "        start_drift = 0\n",
    "        drifts = np.cumsum(np.arange(length * fs) + start_drift)\n",
    "        drift_lo = np.exp(-1j*2*np.pi*drifts*drift/fs**2)\n",
    "        x = np.fromfile(f, dtype = np.complex64, count = length * fs)\n",
    "        x = scipy.signal.resample(x * lo * drift_lo, length * fs2)\n",
    "        f = np.fft.fft(x)\n",
    "        f[length*fs2//2:] = 0\n",
    "        x = np.fft.ifft(f).real * 1e1 * 2**15\n",
    "        scipy.io.wavfile.write(f'/tmp/jt4g_{j:02}.wav', fs2, np.round(x).astype(np.int16))"
   ]
  }
 ],
 "metadata": {
  "kernelspec": {
   "display_name": "Python 3",
   "language": "python3",
   "name": "python3"
  },
  "language_info": {
   "codemirror_mode": {
    "name": "ipython",
    "version": 3
   },
   "file_extension": ".py",
   "mimetype": "text/x-python",
   "name": "python",
   "nbconvert_exporter": "python",
   "pygments_lexer": "ipython3",
   "version": "3.6.5"
  }
 },
 "nbformat": 4,
 "nbformat_minor": 2
}
