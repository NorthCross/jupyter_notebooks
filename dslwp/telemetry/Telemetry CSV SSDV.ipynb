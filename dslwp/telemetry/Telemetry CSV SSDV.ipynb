{
 "cells": [
  {
   "cell_type": "code",
   "execution_count": 1,
   "metadata": {},
   "outputs": [],
   "source": [
    "from construct import *\n",
    "import numpy as np\n",
    "import subprocess\n",
    "import sys"
   ]
  },
  {
   "cell_type": "code",
   "execution_count": 2,
   "metadata": {},
   "outputs": [],
   "source": [
    "TMPrimaryHeader = BitStruct('transfer_frame_version_number' / BitsInteger(2),\n",
    "                            'spacecraft_id' / BitsInteger(10),\n",
    "                            'virtual_channel_id' / BitsInteger(3),\n",
    "                            'ocf_flag' / Flag,\n",
    "                            'master_channel_frame_count' / BitsInteger(8),\n",
    "                            'virtual_channel_frame_count' / BitsInteger(8),\n",
    "                            'first_header_pointer' / BitsInteger(8))"
   ]
  },
  {
   "cell_type": "code",
   "execution_count": 3,
   "metadata": {},
   "outputs": [],
   "source": [
    "def seqnum(packet):\n",
    "    return packet[1]*256 + packet[2]\n",
    "\n",
    "def process_ssdv_frames(frames, output_path):\n",
    "    x = np.frombuffer(bytes().join(ssdv_frames), dtype = 'uint8').reshape((-1,223))[:,5:]\n",
    "    ids = set(x[:,0])\n",
    "    for i in ids:\n",
    "        l = list(x[x[:,0]==i,:])\n",
    "        l.sort(key=seqnum)\n",
    "        ssdv = '{}_{}.ssdv'.format(output_path, i)\n",
    "        jpeg = '{}_{}.jpg'.format(output_path, i)\n",
    "        np.array(l).tofile(ssdv)\n",
    "        subprocess.call(['ssdv', '-d', '-D', ssdv, jpeg])"
   ]
  },
  {
   "cell_type": "code",
   "execution_count": 4,
   "metadata": {},
   "outputs": [],
   "source": [
    "with open('raw_frame.csv') as f:\n",
    "    frames = [bytes().fromhex(l.split(',')[-1].strip()) for l in f.readlines()[1:]]"
   ]
  },
  {
   "cell_type": "code",
   "execution_count": 5,
   "metadata": {},
   "outputs": [],
   "source": [
    "ssdv_frames = [frame for frame in frames if TMPrimaryHeader.parse(frame).virtual_channel_id == 1]"
   ]
  },
  {
   "cell_type": "code",
   "execution_count": 6,
   "metadata": {
    "collapsed": true
   },
   "outputs": [],
   "source": [
    "process_ssdv_frames(ssdv_frames, 'output/img')"
   ]
  }
 ],
 "metadata": {
  "kernelspec": {
   "display_name": "Python 3",
   "language": "python3",
   "name": "python3"
  },
  "language_info": {
   "codemirror_mode": {
    "name": "ipython",
    "version": 3
   },
   "file_extension": ".py",
   "mimetype": "text/x-python",
   "name": "python",
   "nbconvert_exporter": "python",
   "pygments_lexer": "ipython3",
   "version": "3.6.9"
  }
 },
 "nbformat": 4,
 "nbformat_minor": 2
}
