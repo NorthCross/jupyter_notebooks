{
 "cells": [
  {
   "cell_type": "code",
   "execution_count": 1,
   "metadata": {
    "collapsed": true
   },
   "outputs": [],
   "source": [
    "%matplotlib inline\n",
    "from construct import *\n",
    "import numpy as np\n",
    "import subprocess\n",
    "import sys\n",
    "import matplotlib.pyplot as plt\n",
    "import pandas as pd\n",
    "import struct\n",
    "\n",
    "SSDV_PATH = 'ssdv'\n",
    "# SSDV_PATH = '/Users/dijkema/Desktop/dslwp/ssdv/ssdv/ssdv'"
   ]
  },
  {
   "cell_type": "code",
   "execution_count": 2,
   "metadata": {
    "collapsed": true
   },
   "outputs": [],
   "source": [
    "TMPrimaryHeader = BitStruct('transfer_frame_version_number' / BitsInteger(2),\n",
    "                            'spacecraft_id' / BitsInteger(10),\n",
    "                            'virtual_channel_id' / BitsInteger(3),\n",
    "                            'ocf_flag' / Flag,\n",
    "                            'master_channel_frame_count' / BitsInteger(8),\n",
    "                            'virtual_channel_frame_count' / BitsInteger(8),\n",
    "                            'first_header_pointer' / BitsInteger(8))"
   ]
  },
  {
   "cell_type": "code",
   "execution_count": 3,
   "metadata": {
    "collapsed": true
   },
   "outputs": [],
   "source": [
    "def seqnum(packet):\n",
    "    return packet[1]*256 + packet[2]\n",
    "\n",
    "def unwrap(seqnums):\n",
    "    count = 0\n",
    "    for j,x in enumerate(seqnums):\n",
    "        if x >= 240:\n",
    "            count += 1\n",
    "            if count == 5:\n",
    "                location = j\n",
    "                break\n",
    "        else:\n",
    "            count = 0\n",
    "    s = seqnums.copy().astype('int')\n",
    "    s[location:][s[location:] < 230] += 256\n",
    "    return s\n",
    "\n",
    "def crc32(data, initial_value = 0):\n",
    "    \"\"\"Implementation taken from crc32() in ssdv.c\"\"\"\n",
    "    crc = initial_value\n",
    "    for d in data:\n",
    "        x = (crc ^ d) & 0xFF\n",
    "        for _ in range(8):\n",
    "            if x & 1:\n",
    "                x = (x >> 1) ^ 0xEDB88320\n",
    "            else:\n",
    "                x >>= 1\n",
    "        crc = (crc >> 8) ^ x\n",
    "    return crc ^ 0xFFFFFFFF\n",
    "\n",
    "def check_ssdv_crc(frame):\n",
    "    return crc32(frame[5:-4], 0x4EE4FDE1) == struct.unpack('>I', frame[-4:])[0]\n",
    "\n",
    "def process_ssdv_frames(frames, output_path):\n",
    "    x = np.frombuffer(bytes().join(frames), dtype = 'uint8').reshape((-1,223))[:,5:]\n",
    "    seq = unwrap(x[:,0])\n",
    "    ids = set(seq)\n",
    "    for i in ids:\n",
    "        l = list(x[seq==i,:])\n",
    "        l.sort(key=seqnum)\n",
    "        ssdv = '{}_{}.ssdv'.format(output_path, i)\n",
    "        jpeg = '{}_{}.jpg'.format(output_path, i)\n",
    "        np.array(l).tofile(ssdv)\n",
    "        subprocess.call([SSDV_PATH, '-d', '-D', ssdv, jpeg])"
   ]
  },
  {
   "cell_type": "code",
   "execution_count": 4,
   "metadata": {
    "collapsed": true
   },
   "outputs": [],
   "source": [
    "frames = pd.read_csv('raw_frame.csv')\n",
    "frames['raw_data'] = frames['raw_data'].apply(bytes().fromhex)\n",
    "frames['is_ssdv'] = [TMPrimaryHeader.parse(frame).virtual_channel_id == 1 \\\n",
    "                     and check_ssdv_crc(frame) for frame in frames['raw_data']]"
   ]
  },
  {
   "cell_type": "code",
   "execution_count": 5,
   "metadata": {
    "collapsed": true
   },
   "outputs": [],
   "source": [
    "with open('raw_frame.csv') as f:\n",
    "    frameslist = [bytes().fromhex(l.split(',')[-1].strip()) for l in f.readlines()[1:]]"
   ]
  },
  {
   "cell_type": "code",
   "execution_count": 6,
   "metadata": {
    "collapsed": true
   },
   "outputs": [],
   "source": [
    "process_ssdv_frames(frames[frames['is_ssdv']]['raw_data'].values, 'output/img')"
   ]
  },
  {
   "cell_type": "code",
   "execution_count": 7,
   "metadata": {
    "collapsed": true
   },
   "outputs": [],
   "source": [
    "frames['image_id'] = 0\n",
    "raw_data = np.frombuffer(bytes().join(frames['raw_data'].values), dtype='uint8').reshape((-1,223))\n",
    "frames['image_id'] = raw_data[:,5]"
   ]
  },
  {
   "cell_type": "code",
   "execution_count": 8,
   "metadata": {
    "collapsed": true
   },
   "outputs": [],
   "source": [
    "def to_numpy_array(byteslist):\n",
    "    return np.frombuffer(bytes().join(byteslist), dtype='uint8').reshape((-1,223))"
   ]
  },
  {
   "cell_type": "code",
   "execution_count": 9,
   "metadata": {
    "collapsed": true
   },
   "outputs": [],
   "source": [
    "frames['imageID'] = -1"
   ]
  },
  {
   "cell_type": "code",
   "execution_count": 10,
   "metadata": {
    "collapsed": true
   },
   "outputs": [],
   "source": [
    "frames.loc[frames['is_ssdv'], 'imageID'] = \\\n",
    "    unwrap(to_numpy_array(frames[frames['is_ssdv']]['raw_data'].values)[:,5])"
   ]
  },
  {
   "cell_type": "code",
   "execution_count": 11,
   "metadata": {},
   "outputs": [
    {
     "data": {
      "image/png": "[encoded data removed]",
      "text/plain": [
       "<Figure size 432x288 with 1 Axes>"
      ]
     },
     "metadata": {},
     "output_type": "display_data"
    }
   ],
   "source": [
    "plt.plot(frames[frames['is_ssdv']]['imageID']);"
   ]
  },
  {
   "cell_type": "code",
   "execution_count": 12,
   "metadata": {},
   "outputs": [
    {
     "name": "stdout",
     "output_type": "stream",
     "text": [
      "21\ttest_BY2HIT\n",
      "30\tPI9CAM, beijing\n",
      "38\tPI9CAM, beijing\n",
      "39\tbeijing\n",
      "40\tbeijing\n",
      "43\tPI9CAM\n",
      "45\tDK3WN, PI9CAM, YL3CT\n",
      "46\tDK3WN, PI9CAM, YL3CT\n",
      "53\t4Z5CP, PI9CAM, PI9CAM-V\n",
      "56\tPI9CAM, PI9CAM-V\n",
      "68\tPI9CAM, YL3CT\n",
      "71\tPI9CAM, YL3CT\n",
      "72\tPI9CAM, YL3CT\n",
      "73\tPI9CAM, YL3CT\n",
      "74\tN6RFM, PI9CAM, YL3CT\n",
      "75\tN6RFM, PI9CAM, YL3CT\n",
      "76\tDK3WN, PI9CAM, PI9CAM-V, YL3CT\n",
      "81\tPI9CAM, PI9CAM-V, YL3CT\n",
      "83\tPI9CAM, YL3CT\n",
      "84\tDK3WN, PI9CAM, YL3CT\n",
      "85\tDK3WN, PI9CAM, PI9CAM-V, YL3CT\n",
      "86\tDK3WN, YL3CT\n",
      "87\tDK3WN, PI9CAM, YL3CT\n",
      "88\tPI9CAM, YL3CT\n",
      "89\tPI9CAM, PI9CAM-V\n",
      "90\tPI9CAM, PI9CAM-V\n",
      "93\tPI9CAM-WEBSDR\n",
      "96\tPI9CAM\n",
      "97\tPI9CAM, PI9CAM-WEBSDR\n",
      "98\tPI9CAM, PI9CAM-V\n",
      "108\tPI9CAM, PI9CAM-V, PI9CAM-WEBSDR\n",
      "109\tPI9CAM\n",
      "112\tPI9CAM\n",
      "115\tDK3WN, PI9CAM, PI9CAM-WEBSDR, YL3CT\n",
      "117\tDK3WN, PI9CAM\n",
      "118\tPI9CAM\n",
      "119\tDK3WN, PI9CAM\n",
      "123\tDK3WN, PI9CAM, PI9CAM-WEBSDR\n",
      "128\tPI9CAM, PI9CAM-V\n",
      "132\tPI9CAM\n",
      "133\tPI9CAM\n",
      "134\tPI9CAM\n",
      "135\tPI9CAM\n",
      "136\tPI9CAM, PI9CAM-V\n",
      "137\tPI9CAM, PI9CAM-V\n",
      "138\tPI9CAM, PI9CAM-WEBSDR, YL3CT\n",
      "139\tPI9CAM, PI9CAM-V, PI9CAM-WEBSDR, YL3CT\n",
      "140\tPI9CAM, PI9CAM-WEBSDR, YL3CT\n",
      "141\tPI9CAM, YL3CT\n",
      "142\tPI9CAM, PI9CAM-WEBSDR\n",
      "144\tPI9CAM\n",
      "146\tPI9CAM\n",
      "147\tPI9CAM\n",
      "148\tBY2HIT, PI9CAM, YL3CT\n",
      "149\tPI9CAM, YL3CT\n",
      "152\tBY2HIT, PI9CAM, PI9CAM-V, PI9CAM-WEBSDR, beijing\n",
      "153\tBY2HIT, PI9CAM, PI9CAM-V, beijing, sp5uln\n",
      "159\tEA4GPZ, PI9CAM, PI9CAM-WEBSDR, YL3CT\n",
      "160\tPI9CAM\n",
      "163\tPI9CAM\n",
      "164\tPI9CAM\n",
      "165\tPI9CAM\n",
      "168\tPI9CAM\n",
      "169\tDK3WN, PI9CAM\n",
      "170\tPI9CAM\n",
      "171\tPI9CAM\n",
      "172\tPI9CAM\n",
      "173\tPI9CAM\n",
      "174\tPI9CAM\n",
      "175\tPI9CAM\n",
      "176\tPI9CAM\n",
      "177\tPI9CAM\n",
      "178\tPI9CAM\n",
      "179\t4Z5CP, PI9CAM, YL3CT, beijing\n",
      "202\tbeijing\n",
      "203\tbeijing\n",
      "204\tbeijing\n",
      "205\tBY2HIT, PI9CAM-V, beijing\n",
      "206\tbeijing\n",
      "207\tBY2HIT, beijing\n",
      "213\tBY2HIT, PI9CAM-V, beijing\n",
      "218\tPI9CAM\n",
      "219\tPI9CAM, beijing\n",
      "220\t4Z5CP, PI9CAM, beijing, wakayama\n",
      "221\tPI9CAM\n",
      "222\tPI9CAM\n",
      "225\tPI9CAM, beijing\n",
      "226\tPI9CAM, beijing\n",
      "227\tPI9CAM, beijing\n",
      "228\tPI9CAM, beijing\n",
      "229\tPI9CAM, beijing\n",
      "230\tPI9CAM, beijing\n",
      "233\tPI9CAM, beijing, wakayama\n",
      "234\t4Z5CP, PI9CAM, beijing, wakayama\n",
      "238\tPI9CAM, beijing\n",
      "239\tPI9CAM, beijing\n",
      "241\tPI9CAM, beijing\n",
      "242\tPI9CAM, beijing\n",
      "244\tPI9CAM\n",
      "245\tPI9CAM, PI9CAM-WEBSDR\n",
      "246\tPI9CAM\n",
      "247\tPI9CAM, PI9CAM-V, PI9CAM-WEBSDR\n",
      "248\tPI9CAM\n",
      "250\tPI9CAM\n",
      "253\tPI9CAM\n",
      "254\tPI9CAM, beijing, wakayama\n",
      "255\tPI9CAM\n",
      "256\tPI9CAM\n",
      "257\tPI9CAM, beijing, wakayama\n",
      "258\tPI9CAM\n",
      "260\tbeijing\n",
      "261\tPI9CAM, beijing\n",
      "262\tYL3CT, beijing, wakayama\n",
      "263\tPI9CAM, beijing, wakayama\n",
      "264\tPI9CAM, beijing, wakayama\n",
      "267\tPI9CAM\n",
      "269\tPI9CAM, beijing, wakayama\n",
      "270\tI0LYL, PI9CAM, beijing, wakayama\n",
      "271\tPI9CAM, beijing, wakayama\n",
      "272\tPI9CAM, beijing, wakayama\n",
      "273\tbeijing, wakayama\n",
      "275\tbeijing, wakayama\n",
      "276\tbeijing, wakayama\n",
      "277\tbeijing, wakayama\n",
      "278\tbeijing, wakayama\n",
      "281\tPI9CAM, beijing, wakayama\n",
      "282\tbeijing, wakayama\n",
      "283\tbeijing, wakayama\n",
      "284\tBG2KAJ, beijing, wakayama\n",
      "286\tPI9CAM, beijing\n",
      "287\tPI9CAM\n",
      "288\tPI9CAM\n",
      "289\tPI9CAM\n",
      "290\tPI9CAM\n",
      "292\tPI9CAM\n"
     ]
    }
   ],
   "source": [
    "for imageID in range(300):\n",
    "    imageframes = frames[frames['imageID']==imageID]\n",
    "    if len(imageframes) > 0:\n",
    "        contributors = np.unique(frames[frames['imageID']==imageID]['proxy_nickname'].values)\n",
    "        print(f\"{imageID}\\t\" + \", \".join(contributors))"
   ]
  },
  {
   "cell_type": "code",
   "execution_count": 13,
   "metadata": {},
   "outputs": [
    {
     "data": {
      "text/plain": [
       "60"
      ]
     },
     "execution_count": 13,
     "metadata": {},
     "output_type": "execute_result"
    }
   ],
   "source": [
    "pd.get_option('display.max_rows')"
   ]
  },
  {
   "cell_type": "code",
   "execution_count": 14,
   "metadata": {},
   "outputs": [
    {
     "name": "stdout",
     "output_type": "stream",
     "text": [
      "imageID\n",
      "21     2018-12-14 13:55:41.297\n",
      "30     2018-08-12 16:03:46.000\n",
      "38     2018-08-05 08:54:03.772\n",
      "39     2018-08-05 09:52:14.876\n",
      "40     2018-08-05 10:05:00.231\n",
      "43     2018-08-12 16:52:10.800\n",
      "45     2018-08-14 18:14:38.200\n",
      "46     2018-08-14 18:59:51.128\n",
      "53     2018-09-14 23:29:42.598\n",
      "56     2018-09-15 00:27:29.729\n",
      "68     2018-10-07 18:32:38.288\n",
      "71     2018-10-08 18:20:32.993\n",
      "72     2018-10-08 17:10:45.643\n",
      "73     2018-10-08 17:46:06.101\n",
      "74     2018-10-10 22:21:48.794\n",
      "75     2018-10-10 23:11:22.723\n",
      "76     2018-10-14 22:15:53.129\n",
      "81     2018-10-14 21:02:29.282\n",
      "83     2018-10-18 01:57:16.806\n",
      "84     2018-10-18 01:11:31.258\n",
      "85     2018-10-19 01:58:49.689\n",
      "86     2018-10-17 00:25:07.709\n",
      "87     2018-10-20 01:45:10.117\n",
      "88     2018-10-19 00:52:10.810\n",
      "89     2018-10-19 02:29:57.325\n",
      "90     2018-10-19 02:23:34.227\n",
      "93     2018-10-24 03:39:45.740\n",
      "96     2018-10-26 04:12:23.178\n",
      "97     2018-10-26 04:35:52.592\n",
      "98     2018-10-27 14:05:53.524\n",
      "108    2018-10-27 13:23:03.695\n",
      "109    2018-10-26 03:18:09.251\n",
      "112    2018-11-01 17:29:59.544\n",
      "115    2018-11-03 19:34:22.342\n",
      "117    2018-11-01 16:46:07.492\n",
      "118    2018-11-01 17:10:38.792\n",
      "119    2018-11-01 16:20:46.316\n",
      "123    2018-11-03 18:45:33.770\n",
      "128    2018-11-09 21:13:27.277\n",
      "132    2018-11-13 00:58:49.122\n",
      "133    2018-11-10 22:25:38.099\n",
      "134    2018-11-11 21:36:49.850\n",
      "135    2018-11-10 23:06:46.411\n",
      "136    2018-11-09 20:27:36.493\n",
      "137    2018-11-10 23:17:44.291\n",
      "138    2018-11-11 21:54:52.548\n",
      "139    2018-11-10 23:59:53.230\n",
      "140    2018-11-11 22:10:25.242\n",
      "141    2018-11-11 22:49:05.540\n",
      "142    2018-11-11 23:08:52.800\n",
      "144    2018-11-10 22:08:38.077\n",
      "146    2018-11-13 00:04:24.647\n",
      "147    2018-11-12 23:34:50.367\n",
      "148    2018-11-18 04:30:04.204\n",
      "149    2018-11-18 04:15:07.434\n",
      "152    2018-11-27 04:33:24.829\n",
      "153    2018-11-22 02:59:58.299\n",
      "159    2018-12-06 21:14:11.151\n",
      "160    2018-12-07 17:06:09.614\n",
      "163    2018-12-07 17:51:39.166\n",
      "164    2019-01-13 21:04:30.942\n",
      "165    2019-01-13 21:37:25.717\n",
      "168    2019-01-30 17:29:39.854\n",
      "169    2019-01-30 18:31:10.377\n",
      "170    2019-01-30 18:59:50.892\n",
      "171    2019-02-27 17:29:54.971\n",
      "172    2019-03-18 00:54:08.232\n",
      "173    2019-02-15 23:28:54.121\n",
      "174    2019-02-15 21:52:59.870\n",
      "175    2019-02-14 04:56:35.714\n",
      "176    2019-02-27 16:13:06.214\n",
      "177    2019-02-04 18:07:08.047\n",
      "178    2019-03-18 01:44:49.557\n",
      "179    2019-04-14 03:53:18.419\n",
      "202    2019-06-06 16:31:25.774\n",
      "203    2019-06-04 16:57:48.048\n",
      "204    2019-06-06 17:00:08.270\n",
      "205    2019-06-06 15:43:01.481\n",
      "206    2019-06-04 15:45:12.153\n",
      "207    2019-06-06 16:10:57.690\n",
      "213    2019-06-07 17:46:32.802\n",
      "218    2019-06-30 15:26:04.644\n",
      "219    2019-07-01 15:29:02.692\n",
      "220    2019-07-05 16:17:00.570\n",
      "221    2019-07-01 14:23:30.928\n",
      "222    2019-07-01 15:01:03.583\n",
      "225    2019-07-09 21:11:34.783\n",
      "226    2019-07-03 14:30:00.676\n",
      "227    2019-07-03 15:59:56.449\n",
      "228    2019-07-04 15:52:01.615\n",
      "229    2019-07-03 15:22:11.972\n",
      "230    2019-07-04 15:06:24.581\n",
      "233    2019-07-04 16:16:43.885\n",
      "234    2019-07-09 21:57:14.668\n",
      "238    2019-07-13 01:09:26.613\n",
      "239    2019-07-09 22:30:00.787\n",
      "241    2019-07-10 23:43:02.957\n",
      "242    2019-07-10 22:39:58.996\n",
      "244    2019-07-21 14:40:41.774\n",
      "245    2019-07-22 14:47:29.236\n",
      "246    2019-07-15 04:59:50.041\n",
      "247    2019-07-15 04:08:53.497\n",
      "248    2019-07-13 01:33:05.271\n",
      "250    2019-07-21 14:56:25.113\n",
      "253    2019-07-19 06:28:09.787\n",
      "254    2019-07-28 13:40:25.175\n",
      "255    2019-07-21 13:53:22.786\n",
      "256    2019-07-22 14:31:37.677\n",
      "257    2019-07-23 08:08:43.269\n",
      "258    2019-07-22 16:01:45.829\n",
      "260    2019-07-24 07:42:50.754\n",
      "261    2019-07-24 09:01:19.087\n",
      "262    2019-07-25 10:17:21.452\n",
      "263    2019-07-25 09:23:03.527\n",
      "264    2019-07-24 08:12:49.517\n",
      "267    2019-07-26 20:55:00.039\n",
      "269    2019-07-28 13:39:43.687\n",
      "270    2019-07-29 13:48:51.223\n",
      "271    2019-07-29 13:17:24.170\n",
      "272    2019-07-28 13:42:24.106\n",
      "273    2019-07-28 13:10:56.212\n",
      "275    2019-07-29 14:23:02.454\n",
      "276    2019-07-29 09:59:07.552\n",
      "277    2019-07-30 14:39:18.926\n",
      "278    2019-07-29 09:43:58.289\n",
      "281    2019-07-31 01:16:41.486\n",
      "282    2019-07-30 14:23:04.893\n",
      "283    2019-07-30 14:05:07.843\n",
      "284    2019-07-30 14:59:56.738\n",
      "286    2019-07-31 16:05:14.990\n",
      "287    2019-07-31 15:37:42.800\n",
      "288    2019-07-31 15:01:02.473\n",
      "289    2019-07-31 14:48:09.968\n",
      "290    2019-07-31 15:46:19.168\n",
      "292    2019-07-31 22:08:21.421\n",
      "Name: proxy_receive_time, dtype: object\n"
     ]
    }
   ],
   "source": [
    "pd.set_option('display.max_rows', None)\n",
    "print(frames[frames['is_ssdv']].groupby('imageID')['proxy_receive_time'].max())\n",
    "pd.set_option('display.max_rows', 60)"
   ]
  }
 ],
 "metadata": {
  "kernelspec": {
   "display_name": "Python 3",
   "language": "python3",
   "name": "python3"
  },
  "language_info": {
   "codemirror_mode": {
    "name": "ipython",
    "version": 3
   },
   "file_extension": ".py",
   "mimetype": "text/x-python",
   "name": "python",
   "nbconvert_exporter": "python",
   "pygments_lexer": "ipython3",
   "version": "3.6.9"
  }
 },
 "nbformat": 4,
 "nbformat_minor": 2
}
