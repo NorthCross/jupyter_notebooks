{
 "cells": [
  {
   "cell_type": "code",
   "execution_count": 13,
   "metadata": {
    "collapsed": true
   },
   "outputs": [],
   "source": [
    "%matplotlib inline\n",
    "from construct import *\n",
    "import numpy as np\n",
    "import subprocess\n",
    "import sys\n",
    "import matplotlib.pyplot as plt\n",
    "import pandas as pd\n",
    "import struct\n",
    "import re\n",
    "\n",
    "# SSDV_PATH = 'ssdv'\n",
    "SSDV_PATH = '/Users/dijkema/Desktop/dslwp/ssdv/ssdv/ssdv'"
   ]
  },
  {
   "cell_type": "code",
   "execution_count": 2,
   "metadata": {
    "collapsed": true
   },
   "outputs": [],
   "source": [
    "TMPrimaryHeader = BitStruct('transfer_frame_version_number' / BitsInteger(2),\n",
    "                            'spacecraft_id' / BitsInteger(10),\n",
    "                            'virtual_channel_id' / BitsInteger(3),\n",
    "                            'ocf_flag' / Flag,\n",
    "                            'master_channel_frame_count' / BitsInteger(8),\n",
    "                            'virtual_channel_frame_count' / BitsInteger(8),\n",
    "                            'first_header_pointer' / BitsInteger(8))"
   ]
  },
  {
   "cell_type": "code",
   "execution_count": 3,
   "metadata": {},
   "outputs": [],
   "source": [
    "def format_range(missing_range):\n",
    "    (beginstr, endstr) = missing_range\n",
    "    begin = int(beginstr) + 1\n",
    "    end = int(endstr) - 1\n",
    "    if begin == end:\n",
    "        return str(begin)\n",
    "    else:\n",
    "        return f\"{begin}-{end}\"\n",
    "\n",
    "def format_missing_packets(ssdv_output):\n",
    "    matches = re.findall(\"Gap detected between packets (.*) and (.*)\", ssdv_output)\n",
    "    return \",\".join([format_range(missing_range) for missing_range in matches])"
   ]
  },
  {
   "cell_type": "code",
   "execution_count": 19,
   "metadata": {
    "collapsed": true
   },
   "outputs": [],
   "source": [
    "def seqnum(packet):\n",
    "    return packet[1]*256 + packet[2]\n",
    "\n",
    "def unwrap(seqnums):\n",
    "    count = 0\n",
    "    location = 0\n",
    "    for j,x in enumerate(seqnums):\n",
    "        if x >= 240:\n",
    "            count += 1\n",
    "            if count == 5:\n",
    "                location = j\n",
    "                break\n",
    "        else:\n",
    "            count = 0\n",
    "    s = seqnums.copy().astype('int')\n",
    "    s[location:][s[location:] < 230] += 256\n",
    "    return s\n",
    "\n",
    "def crc32(data, initial_value = 0):\n",
    "    \"\"\"Implementation taken from crc32() in ssdv.c\"\"\"\n",
    "    crc = initial_value\n",
    "    for d in data:\n",
    "        x = (crc ^ d) & 0xFF\n",
    "        for _ in range(8):\n",
    "            if x & 1:\n",
    "                x = (x >> 1) ^ 0xEDB88320\n",
    "            else:\n",
    "                x >>= 1\n",
    "        crc = (crc >> 8) ^ x\n",
    "    return crc ^ 0xFFFFFFFF\n",
    "\n",
    "def check_ssdv_crc(frame):\n",
    "    return crc32(frame[5:-4], 0x4EE4FDE1) == struct.unpack('>I', frame[-4:])[0]\n",
    "\n",
    "def process_ssdv_frames(frames, output_path):\n",
    "    missing_packets = {}\n",
    "    x = np.frombuffer(bytes().join(frames), dtype = 'uint8').reshape((-1,223))[:,5:]\n",
    "    seq = unwrap(x[:,0])\n",
    "    ids = set(seq)\n",
    "    for i in ids:\n",
    "        l = list(x[seq==i,:])\n",
    "        l.sort(key=seqnum)\n",
    "        ssdv = '{}_{:03d}.ssdv'.format(output_path, i)\n",
    "        jpeg = '{}_{:03d}.jpg'.format(output_path, i)\n",
    "        np.array(l).tofile(ssdv)\n",
    "        ssdv_output = subprocess.run([SSDV_PATH, '-d', '-D', ssdv, jpeg],\n",
    "                                     stderr=subprocess.PIPE)\n",
    "        missing_packets[i] = format_missing_packets(\n",
    "            ssdv_output.stderr.decode('utf-8'))\n",
    "    return missing_packets"
   ]
  },
  {
   "cell_type": "code",
   "execution_count": 7,
   "metadata": {
    "collapsed": true
   },
   "outputs": [],
   "source": [
    "frames = pd.read_csv('/Users/dijkema/Desktop/dslwp/dslwp-data/raw_frame.csv')\n",
    "frames['raw_data'] = frames['raw_data'].apply(bytes().fromhex)\n",
    "frames['is_ssdv'] = [TMPrimaryHeader.parse(frame).virtual_channel_id == 1 \\\n",
    "                     and check_ssdv_crc(frame) for frame in frames['raw_data']]"
   ]
  },
  {
   "cell_type": "code",
   "execution_count": 11,
   "metadata": {},
   "outputs": [],
   "source": [
    "frames = frames[frames['remark']!=\"replay\"]"
   ]
  },
  {
   "cell_type": "code",
   "execution_count": 20,
   "metadata": {},
   "outputs": [],
   "source": [
    "missing_packets = process_ssdv_frames(frames[frames['is_ssdv']]['raw_data'].values,\n",
    "                                      'output/img')"
   ]
  },
  {
   "cell_type": "code",
   "execution_count": 43,
   "metadata": {},
   "outputs": [],
   "source": [
    "image_df = pd.DataFrame.from_dict(missing_packets, orient='index', columns=['missing_packets'])"
   ]
  },
  {
   "cell_type": "code",
   "execution_count": 47,
   "metadata": {
    "collapsed": true
   },
   "outputs": [],
   "source": [
    "def to_numpy_array(byteslist):\n",
    "    return np.frombuffer(bytes().join(byteslist), dtype='uint8').reshape((-1,223))"
   ]
  },
  {
   "cell_type": "code",
   "execution_count": 48,
   "metadata": {
    "collapsed": true
   },
   "outputs": [
    {
     "name": "stderr",
     "output_type": "stream",
     "text": [
      "/anaconda/envs/school19/lib/python3.6/site-packages/ipykernel_launcher.py:1: SettingWithCopyWarning: \n",
      "A value is trying to be set on a copy of a slice from a DataFrame.\n",
      "Try using .loc[row_indexer,col_indexer] = value instead\n",
      "\n",
      "See the caveats in the documentation: http://pandas.pydata.org/pandas-docs/stable/indexing.html#indexing-view-versus-copy\n",
      "  \"\"\"Entry point for launching an IPython kernel.\n"
     ]
    }
   ],
   "source": [
    "frames['imageID'] = -1"
   ]
  },
  {
   "cell_type": "code",
   "execution_count": 49,
   "metadata": {
    "collapsed": true
   },
   "outputs": [
    {
     "name": "stderr",
     "output_type": "stream",
     "text": [
      "/anaconda/envs/school19/lib/python3.6/site-packages/pandas/core/indexing.py:543: SettingWithCopyWarning: \n",
      "A value is trying to be set on a copy of a slice from a DataFrame.\n",
      "Try using .loc[row_indexer,col_indexer] = value instead\n",
      "\n",
      "See the caveats in the documentation: http://pandas.pydata.org/pandas-docs/stable/indexing.html#indexing-view-versus-copy\n",
      "  self.obj[item] = s\n"
     ]
    }
   ],
   "source": [
    "frames.loc[frames['is_ssdv'], 'imageID'] = \\\n",
    "    unwrap(to_numpy_array(frames[frames['is_ssdv']]['raw_data'].values)[:,5])"
   ]
  },
  {
   "cell_type": "code",
   "execution_count": 50,
   "metadata": {},
   "outputs": [
    {
     "data": {
      "image/png": "[encoded data removed]",
      "text/plain": [
       "<Figure size 432x288 with 1 Axes>"
      ]
     },
     "metadata": {
      "needs_background": "light"
     },
     "output_type": "display_data"
    }
   ],
   "source": [
    "plt.plot(frames[frames['is_ssdv']]['imageID']);"
   ]
  },
  {
   "cell_type": "code",
   "execution_count": 59,
   "metadata": {},
   "outputs": [],
   "source": [
    "image_df['contributors'] = ''\n",
    "for imageID in range(300):\n",
    "    imageframes = frames[frames['imageID']==imageID]\n",
    "    if len(imageframes) > 0:\n",
    "        contributors = np.unique(frames[frames['imageID']==imageID]['proxy_nickname'].values)\n",
    "        image_df.loc[imageID, \"contributors\"] = \", \".join(contributors)"
   ]
  },
  {
   "cell_type": "code",
   "execution_count": 66,
   "metadata": {},
   "outputs": [],
   "source": [
    "image_df[\"last_receive\"] = frames[frames['is_ssdv']].groupby('imageID')['proxy_receive_time'].max()\n",
    "image_df[\"first_receive\"] = frames[frames['is_ssdv']].groupby('imageID')['proxy_receive_time'].min()"
   ]
  },
  {
   "cell_type": "code",
   "execution_count": 68,
   "metadata": {},
   "outputs": [],
   "source": [
    "image_df.to_csv(\"temp.csv\")"
   ]
  },
  {
   "cell_type": "code",
   "execution_count": null,
   "metadata": {},
   "outputs": [],
   "source": []
  }
 ],
 "metadata": {
  "kernelspec": {
   "display_name": "Python 3",
   "language": "python",
   "name": "python3"
  },
  "language_info": {
   "codemirror_mode": {
    "name": "ipython",
    "version": 3
   },
   "file_extension": ".py",
   "mimetype": "text/x-python",
   "name": "python",
   "nbconvert_exporter": "python",
   "pygments_lexer": "ipython3",
   "version": "3.6.8"
  }
 },
 "nbformat": 4,
 "nbformat_minor": 2
}
