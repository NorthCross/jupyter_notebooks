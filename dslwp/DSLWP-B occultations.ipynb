{
 "cells": [
  {
   "cell_type": "code",
   "execution_count": 1,
   "metadata": {
    "collapsed": true
   },
   "outputs": [],
   "source": [
    "import numpy as np\n",
    "from astropy.time import Time\n",
    "import datetime"
   ]
  },
  {
   "cell_type": "markdown",
   "metadata": {},
   "source": [
    "The `contactLocator1.txt` file is produced by `dslwp_occulations.script`."
   ]
  },
  {
   "cell_type": "code",
   "execution_count": 2,
   "metadata": {
    "collapsed": true
   },
   "outputs": [],
   "source": [
    "with open('/tmp/ContactLocator1.txt') as f:\n",
    "    lines = f.readlines()"
   ]
  },
  {
   "cell_type": "code",
   "execution_count": 3,
   "metadata": {
    "collapsed": true
   },
   "outputs": [],
   "source": [
    "lines_split = [l.split() for l in lines[4:-5]]\n",
    "time_format = '%d %b %Y %H:%M:%S.%f'\n",
    "start_times = Time([datetime.datetime.strptime(' '.join(l[0:4]), time_format) for l in lines_split])\n",
    "end_times = Time([datetime.datetime.strptime(' '.join(l[4:8]), time_format) for l in lines_split])"
   ]
  },
  {
   "cell_type": "code",
   "execution_count": 4,
   "metadata": {
    "collapsed": true
   },
   "outputs": [],
   "source": [
    "deltas = start_times[1:]-end_times[:-1]\n",
    "cutoff = 0.2\n",
    "idxs = deltas < cutoff"
   ]
  },
  {
   "cell_type": "code",
   "execution_count": 5,
   "metadata": {
    "collapsed": true
   },
   "outputs": [],
   "source": [
    "starts = Time(end_times[:-1][idxs], format='iso').value\n",
    "ends = Time(start_times[1:][idxs], format='iso').value"
   ]
  },
  {
   "cell_type": "code",
   "execution_count": 6,
   "metadata": {},
   "outputs": [
    {
     "name": "stdout",
     "output_type": "stream",
     "text": [
      "2019-07-01 22:28:59.566 --- 2019-07-01 23:05:14.765\n",
      "2019-07-02 18:58:07.458 --- 2019-07-02 19:32:08.645\n",
      "2019-07-03 15:29:00.020 --- 2019-07-03 16:00:31.981\n",
      "2019-07-06 05:01:03.167 --- 2019-07-06 05:26:58.614\n",
      "2019-07-07 01:28:49.608 --- 2019-07-07 01:53:24.190\n",
      "2019-07-07 21:54:39.298 --- 2019-07-07 22:17:47.265\n",
      "2019-07-11 07:30:59.768 --- 2019-07-11 07:48:51.223\n",
      "2019-07-12 03:53:33.356 --- 2019-07-12 04:28:03.991\n",
      "2019-07-24 18:56:01.389 --- 2019-07-24 19:27:57.417\n",
      "2019-07-25 15:10:39.834 --- 2019-07-25 15:54:16.009\n",
      "2019-07-26 11:30:43.858 --- 2019-07-26 12:15:23.642\n",
      "2019-07-29 21:08:31.173 --- 2019-07-29 21:40:22.597\n",
      "2019-07-30 17:37:28.234 --- 2019-07-30 18:06:33.299\n"
     ]
    }
   ],
   "source": [
    "for a,b in zip(starts, ends):\n",
    "    print(a,'---',b)"
   ]
  }
 ],
 "metadata": {
  "kernelspec": {
   "display_name": "Python 3",
   "language": "python3",
   "name": "python3"
  },
  "language_info": {
   "codemirror_mode": {
    "name": "ipython",
    "version": 3
   },
   "file_extension": ".py",
   "mimetype": "text/x-python",
   "name": "python",
   "nbconvert_exporter": "python",
   "pygments_lexer": "ipython3",
   "version": "3.6.5"
  }
 },
 "nbformat": 4,
 "nbformat_minor": 2
}
