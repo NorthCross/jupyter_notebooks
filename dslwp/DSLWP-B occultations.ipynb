{
 "cells": [
  {
   "cell_type": "code",
   "execution_count": 1,
   "metadata": {
    "collapsed": true
   },
   "outputs": [],
   "source": [
    "import numpy as np\n",
    "from astropy.time import Time\n",
    "import datetime"
   ]
  },
  {
   "cell_type": "markdown",
   "metadata": {},
   "source": [
    "The `contactLocator1.txt` file is produced by `dslwp_occulations.script`."
   ]
  },
  {
   "cell_type": "code",
   "execution_count": 2,
   "metadata": {
    "collapsed": true
   },
   "outputs": [],
   "source": [
    "with open('/tmp/ContactLocator1.txt') as f:\n",
    "    lines = f.readlines()"
   ]
  },
  {
   "cell_type": "code",
   "execution_count": 3,
   "metadata": {},
   "outputs": [],
   "source": [
    "lines_split = [l.split() for l in lines[4:-5]]\n",
    "time_format = '%d %b %Y %H:%M:%S.%f'\n",
    "start_times = Time([datetime.datetime.strptime(' '.join(l[0:4]), time_format) for l in lines_split])\n",
    "end_times = Time([datetime.datetime.strptime(' '.join(l[4:8]), time_format) for l in lines_split])"
   ]
  },
  {
   "cell_type": "code",
   "execution_count": 4,
   "metadata": {},
   "outputs": [],
   "source": [
    "deltas = start_times[1:]-end_times[:-1]\n",
    "cutoff = 0.2\n",
    "idxs = deltas < cutoff"
   ]
  },
  {
   "cell_type": "code",
   "execution_count": 5,
   "metadata": {},
   "outputs": [],
   "source": [
    "starts = Time(end_times[:-1][idxs], format='iso').value\n",
    "ends = Time(start_times[1:][idxs], format='iso').value"
   ]
  },
  {
   "cell_type": "code",
   "execution_count": 6,
   "metadata": {},
   "outputs": [
    {
     "name": "stdout",
     "output_type": "stream",
     "text": [
      "2018-10-30 09:58:21.209 --- 2018-10-30 10:25:59.668\n",
      "2018-10-31 07:22:01.275 --- 2018-10-31 07:45:38.106\n",
      "2018-11-01 04:44:57.579 --- 2018-11-01 05:02:42.190\n",
      "2018-11-02 02:11:21.047 --- 2018-11-02 02:12:59.662\n",
      "2018-11-06 12:44:43.693 --- 2018-11-06 13:23:19.613\n",
      "2018-11-07 10:05:22.057 --- 2018-11-07 11:28:49.040\n",
      "2018-11-19 15:49:49.037 --- 2018-11-19 16:28:06.893\n",
      "2018-11-23 04:54:04.355 --- 2018-11-23 05:30:16.488\n",
      "2018-11-24 02:16:22.270 --- 2018-11-24 02:49:01.205\n",
      "2018-11-24 23:39:53.318 --- 2018-11-25 00:09:42.339\n",
      "2018-11-25 21:03:31.502 --- 2018-11-25 21:31:30.765\n",
      "2018-11-29 10:21:47.946 --- 2018-11-29 10:52:16.227\n",
      "2018-11-30 07:36:10.530 --- 2018-11-30 08:10:39.004\n",
      "2018-12-01 04:49:17.434 --- 2018-12-01 05:30:35.754\n",
      "2018-12-17 21:25:36.664 --- 2018-12-17 22:14:11.025\n",
      "2018-12-18 18:44:18.173 --- 2018-12-18 19:26:16.703\n",
      "2018-12-19 16:02:54.214 --- 2018-12-19 16:39:24.685\n",
      "2018-12-23 05:26:21.937 --- 2018-12-23 05:53:34.464\n",
      "2018-12-24 02:48:48.456 --- 2018-12-24 03:16:34.352\n",
      "2018-12-25 00:09:56.572 --- 2018-12-25 00:39:35.818\n",
      "2018-12-25 21:28:46.338 --- 2018-12-25 22:01:41.686\n",
      "2018-12-30 07:39:06.592 --- 2018-12-30 08:32:19.181\n",
      "2018-12-31 05:07:55.443 --- 2018-12-31 05:38:54.256\n"
     ]
    }
   ],
   "source": [
    "for a,b in zip(starts, ends):\n",
    "    print(a,'---',b)"
   ]
  }
 ],
 "metadata": {
  "kernelspec": {
   "display_name": "Python 3",
   "language": "python3",
   "name": "python3"
  },
  "language_info": {
   "codemirror_mode": {
    "name": "ipython",
    "version": 3
   },
   "file_extension": ".py",
   "mimetype": "text/x-python",
   "name": "python",
   "nbconvert_exporter": "python",
   "pygments_lexer": "ipython3",
   "version": "3.6.5"
  }
 },
 "nbformat": 4,
 "nbformat_minor": 2
}
