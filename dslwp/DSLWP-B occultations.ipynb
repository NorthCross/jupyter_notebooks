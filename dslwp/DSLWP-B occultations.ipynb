{
 "cells": [
  {
   "cell_type": "code",
   "execution_count": 1,
   "metadata": {
    "collapsed": true
   },
   "outputs": [],
   "source": [
    "import numpy as np\n",
    "from astropy.time import Time\n",
    "import datetime"
   ]
  },
  {
   "cell_type": "markdown",
   "metadata": {},
   "source": [
    "The `contactLocator1.txt` file is produced by `dslwp_occulations.script`."
   ]
  },
  {
   "cell_type": "code",
   "execution_count": 2,
   "metadata": {},
   "outputs": [],
   "source": [
    "with open('/tmp/ContactLocator1.txt') as f:\n",
    "    lines = f.readlines()"
   ]
  },
  {
   "cell_type": "code",
   "execution_count": 3,
   "metadata": {
    "collapsed": true
   },
   "outputs": [],
   "source": [
    "lines_split = [l.split() for l in lines[4:-5]]\n",
    "time_format = '%d %b %Y %H:%M:%S.%f'\n",
    "start_times = Time([datetime.datetime.strptime(' '.join(l[0:4]), time_format) for l in lines_split])\n",
    "end_times = Time([datetime.datetime.strptime(' '.join(l[4:8]), time_format) for l in lines_split])"
   ]
  },
  {
   "cell_type": "code",
   "execution_count": 4,
   "metadata": {
    "collapsed": true
   },
   "outputs": [],
   "source": [
    "deltas = start_times[1:]-end_times[:-1]\n",
    "cutoff = 0.2\n",
    "idxs = deltas < cutoff"
   ]
  },
  {
   "cell_type": "code",
   "execution_count": 5,
   "metadata": {
    "collapsed": true
   },
   "outputs": [],
   "source": [
    "starts = Time(end_times[:-1][idxs], format='iso').value\n",
    "ends = Time(start_times[1:][idxs], format='iso').value"
   ]
  },
  {
   "cell_type": "code",
   "execution_count": 6,
   "metadata": {},
   "outputs": [
    {
     "name": "stdout",
     "output_type": "stream",
     "text": [
      "2019-06-30 05:40:24.741 --- 2019-06-30 06:16:31.531\n",
      "2019-07-03 15:30:53.856 --- 2019-07-03 16:02:35.450\n",
      "2019-07-04 12:03:13.777 --- 2019-07-04 12:32:34.712\n",
      "2019-07-05 08:35:04.137 --- 2019-07-05 09:02:28.805\n",
      "2019-07-08 18:24:11.768 --- 2019-07-08 18:44:48.186\n",
      "2019-07-09 14:48:57.165 --- 2019-07-09 15:06:52.530\n",
      "2019-07-13 20:55:03.858 --- 2019-07-13 22:25:36.845\n",
      "2019-07-26 11:46:27.916 --- 2019-07-26 12:31:00.748\n",
      "2019-07-27 08:09:15.449 --- 2019-07-27 08:51:25.754\n",
      "2019-07-28 04:33:41.068 --- 2019-07-28 05:12:16.034\n"
     ]
    }
   ],
   "source": [
    "for a,b in zip(starts, ends):\n",
    "    print(a,'---',b)"
   ]
  }
 ],
 "metadata": {
  "kernelspec": {
   "display_name": "Python 3",
   "language": "python3",
   "name": "python3"
  },
  "language_info": {
   "codemirror_mode": {
    "name": "ipython",
    "version": 3
   },
   "file_extension": ".py",
   "mimetype": "text/x-python",
   "name": "python",
   "nbconvert_exporter": "python",
   "pygments_lexer": "ipython3",
   "version": "3.6.5"
  }
 },
 "nbformat": 4,
 "nbformat_minor": 2
}
