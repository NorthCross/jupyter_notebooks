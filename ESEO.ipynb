{
 "cells": [
  {
   "cell_type": "code",
   "execution_count": 1,
   "metadata": {
    "collapsed": true
   },
   "outputs": [],
   "source": [
    "%matplotlib inline\n",
    "import numpy as np\n",
    "import matplotlib.pyplot as plt"
   ]
  },
  {
   "cell_type": "code",
   "execution_count": 2,
   "metadata": {
    "collapsed": true
   },
   "outputs": [],
   "source": [
    "def hexprint(x):\n",
    "    print(' '.join([('0'+j[2:])[-2:] for j in map(hex, np.packbits(x))]))"
   ]
  },
  {
   "cell_type": "markdown",
   "metadata": {},
   "source": [
    "An example packet from ESEO."
   ]
  },
  {
   "cell_type": "code",
   "execution_count": 3,
   "metadata": {
    "collapsed": true
   },
   "outputs": [],
   "source": [
    "bits = np.array([0, 1, 1, 1, 1, 1, 1, 0, 0, 1, 1, 1, 1, 1, 1, 0, 1, 1, 0, 1, 0, 0, 1, 1, 1, 1, 1, 1, 1, 0, 0, 0, 0, 0, 0, 0, 1, 1, 1, 0, 1, 0, 1, 0, 0, 0, 1, 0, 1, 1, 1, 0, 1, 0, 1, 0, 1, 1, 0, 0, 0, 1, 0, 0, 1, 0, 0, 0, 1, 1, 1, 0, 0, 0, 1, 0, 1, 1, 0, 0, 0, 1, 0, 0, 1, 0, 1, 1, 0, 0, 0, 0, 1, 1, 1, 0, 0, 0, 1, 0, 1, 0, 0, 0, 1, 1, 1, 1, 1, 0, 1, 0, 1, 0, 0, 1, 0, 0, 0, 0, 0, 0, 1, 0, 0, 0, 0, 0, 0, 1, 0, 0, 1, 1, 1, 1, 0, 1, 0, 0, 1, 1, 0, 0, 1, 0, 1, 1, 0, 0, 0, 1, 0, 0, 1, 0, 0, 0, 1, 1, 1, 0, 1, 0, 1, 0, 1, 1, 0, 0, 0, 1, 1, 0, 0, 0, 0, 1, 1, 0, 0, 0, 1, 1, 0, 0, 0, 1, 1, 0, 1, 0, 1, 1, 1, 1, 0, 1, 0, 1, 1, 1, 0, 0, 1, 1, 1, 0, 0, 1, 0, 1, 0, 1, 1, 1, 1, 0, 0, 1, 0, 1, 1, 1, 0, 0, 1, 0, 1, 1, 1, 1, 0, 0, 0, 0, 0, 1, 0, 1, 1, 0, 0, 0, 0, 1, 1, 1, 1, 1, 0, 1, 0, 0, 0, 0, 1, 0, 1, 0, 1, 1, 0, 0, 1, 1, 0, 0, 0, 1, 1, 0, 1, 0, 0, 1, 1, 0, 0, 1, 1, 0, 1, 1, 1, 0, 1, 1, 0, 0, 1, 0, 0, 0, 0, 0, 1, 1, 0, 1, 0, 1, 1, 0, 1, 0, 0, 0, 1, 0, 0, 1, 1, 0, 0, 1, 1, 0, 1, 1, 0, 0, 0, 0, 0, 0, 0, 1, 1, 0, 0, 0, 0, 1, 0, 0, 1, 1, 1, 0, 1, 0, 0, 1, 0, 0, 1, 1, 1, 0, 1, 0, 1, 1, 0, 1, 0, 1, 1, 1, 1, 0, 1, 0, 1, 1, 0, 0, 1, 1, 0, 0, 1, 0, 0, 1, 0, 1, 1, 0, 1, 0, 0, 1, 1, 0, 1, 0, 0, 1, 0, 1, 0, 1, 0, 0, 1, 1, 1, 1, 0, 0, 0, 1, 0, 1, 0, 0, 0, 1, 0, 1, 0, 0, 0, 1, 0, 0, 1, 1, 0, 0, 1, 1, 0, 1, 0, 1, 1, 1, 1, 1, 1, 0, 1, 1, 1, 1, 1, 0, 1, 0, 0, 1, 1, 1, 0, 0, 1, 0, 0, 1, 1, 1, 0, 0, 0, 1, 0, 1, 1, 0, 1, 0, 1, 0, 1, 1, 1, 0, 1, 0, 1, 0, 1, 1, 1, 0, 1, 0, 0, 1, 1, 1, 0, 1, 0, 1, 1, 0, 0, 0, 0, 1, 0, 0, 0, 0, 0, 0, 0, 1, 1, 0, 1, 1, 0, 0, 1, 0, 1, 0, 0, 0, 0, 0, 0, 1, 1, 1, 1, 0, 0, 0, 0, 1, 0, 0, 0, 0, 0, 0, 1, 0, 1, 0, 1, 0, 1, 0, 0, 0, 0, 0, 0, 0, 0, 1, 0, 1, 0, 1, 1, 1, 0, 1, 1, 0, 1, 0, 0, 1, 0, 1, 0, 1, 1, 1, 0, 0, 1, 1, 1, 0, 0, 0, 1, 1, 0, 1, 0, 0, 0, 0, 1, 1, 0, 1, 1, 0, 1, 0, 1, 1, 0, 1, 1, 0, 1, 1, 0, 1, 1, 1, 0, 1, 0, 1, 0, 1, 0, 0, 1, 0, 0, 1, 0, 0, 0, 0, 1, 0, 0, 0, 0, 0, 0, 1, 0, 1, 1, 0, 1, 1, 1, 1, 0, 0, 1, 1, 0, 0, 1, 0, 1, 0, 0, 0, 0, 1, 1, 1, 0, 0, 1, 0, 0, 0, 1, 1, 0, 1, 1, 1, 1, 1, 1, 0, 1, 1, 0, 0, 1, 0, 0, 1, 0, 0, 1, 1, 1, 0, 0, 1, 1, 0, 0, 0, 0, 0, 1, 0, 1, 1, 1, 1, 1, 1, 0, 0, 0, 1, 0, 1, 1, 0, 0, 0, 1, 0, 0, 0, 1, 0, 1, 0, 1, 1, 0, 1, 0, 1, 1, 0, 1, 0, 1, 1, 0, 1, 0, 0, 1, 0, 1, 0, 1, 1, 0, 0, 0, 0, 1, 1, 0, 0, 0, 0, 1, 0, 1, 1, 0, 0, 1, 1, 1, 0, 0, 0, 0, 0, 1, 1, 1, 1, 0, 0, 0, 0, 1, 1, 1, 0, 0, 1, 1, 1, 1, 0, 1, 0, 0, 0, 0, 1, 0, 1, 1, 0, 1, 0, 1, 1, 0, 1, 0, 1, 0, 0, 0, 1, 0, 1, 1, 0, 1, 0, 1, 0, 1, 0, 1, 1, 1, 1, 1, 1, 1, 0, 1, 0, 1, 0, 1, 1, 0, 1, 0, 1, 1, 0, 1, 1, 1, 0, 1, 1, 0, 1, 0, 0, 1, 0, 0, 1, 0, 1, 0, 0, 1, 0, 0, 0, 0, 0, 0, 0, 1, 1, 1, 1, 0, 1, 1, 1, 0, 0, 0, 1, 1, 1, 0, 1, 0, 1, 1, 1, 0, 0, 0, 1, 1, 0, 0, 1, 1, 1, 1, 0, 0, 1, 1, 0, 1, 0, 0, 0, 1, 1, 1, 1, 0, 1, 0, 1, 0, 0, 1, 0, 0, 0, 1, 0, 0, 0, 1, 1, 0, 0, 0, 0, 0, 0, 0, 0, 0, 1, 0, 1, 0, 1, 0, 1, 0, 1, 1, 0, 0, 0, 0, 1, 1, 0, 0, 0, 0, 0, 0, 0, 1, 1, 0, 1, 0, 0, 1, 0, 0, 0, 1, 1, 0, 1, 0, 0, 1, 0, 0, 1, 1, 0, 0, 0, 0, 1, 1, 0, 0, 0, 1, 1, 0, 1, 1, 0, 0, 1, 0, 1, 1, 0, 1, 1, 0, 1, 1, 0, 0, 0, 0, 0, 0, 0, 1, 1, 1, 0, 1, 1, 1, 1, 0, 1, 1, 0, 1, 0, 1, 0, 1, 1, 0, 1, 0, 1, 1, 1, 0, 0, 1, 1, 0, 0, 1, 1, 0, 0, 0, 0, 1, 0, 1, 1, 0, 1, 0, 1, 0, 1, 1, 0, 0, 1, 1, 0, 0, 1, 0, 1, 0, 1, 0, 0, 1, 1, 0, 1, 1, 1, 1, 0, 0, 0, 0, 1, 1, 0, 0, 0, 0, 1, 1, 0, 0, 1, 0, 0, 0, 0, 1, 0, 0, 1, 0, 1, 1, 1, 0, 0, 1, 0, 1, 1, 0, 1, 0, 1, 0, 0, 0, 0, 1, 1, 0, 0, 1, 1, 1, 1, 0, 1, 1, 1, 1, 1, 0, 0, 1, 1, 1, 1, 0, 0, 0, 1, 0, 1, 1, 1, 0, 0, 0, 1, 0, 1, 0, 1, 0, 0, 1, 1, 0, 0, 1, 1, 1, 0, 1, 0, 0, 0, 1, 1, 0, 1, 0, 1, 0, 0, 1, 0, 1, 0, 0, 0, 1, 0, 1, 1, 0, 0, 0, 1, 1, 1, 0, 0, 0, 0, 0, 0, 0, 0, 1, 0, 1, 1, 0, 0, 1, 1, 1, 1, 0, 1, 1, 0, 1, 0, 0, 1, 1, 0, 1, 1, 1, 0, 1, 0, 0, 0, 1, 0, 1, 0, 0, 0, 1, 0, 1, 0, 0, 0, 1, 1, 1, 1, 1, 0, 0, 0, 1, 1, 1, 1, 0, 1, 1, 1, 1, 1, 1, 0, 1, 1, 0, 1, 0, 0, 1, 0, 0, 0, 1, 1, 0, 1, 1, 1, 1, 1, 1, 0, 0, 1, 0, 1, 1, 1, 1, 1, 1, 0, 0, 0, 1, 1, 1, 1, 1, 1, 1, 1, 0, 0, 1, 0, 0, 1, 1, 1, 0, 1, 0, 1, 1, 1, 1, 1, 1, 0, 0, 1, 1, 1, 1, 1, 1, 0, 0, 1, 0, 0, 0, 1, 0, 0, 0, 1, 0, 0, 0, 1, 0, 0, 0, 1, 1, 1, 1, 1, 1, 1, 1],\\\n",
    "                dtype = 'uint8')"
   ]
  },
  {
   "cell_type": "code",
   "execution_count": 4,
   "metadata": {},
   "outputs": [
    {
     "name": "stdout",
     "output_type": "stream",
     "text": [
      "7e 7e d3 f8 0e a2 ea c4 8e 2c 4b 0e 28 fa 90 20 4f 4c b1 23 ab 18 63 1a f5 ce 57 97 2f 05 87 d0 ac c6 99 bb 20 d6 89 9b 01 84 e9 3a d7 ac c9 69 a5 4f 14 51 33 5f be 9c 9c 5a ba ba 75 84 06 ca 07 84 0a a0 15 da 57 38 d0 da db 75 49 08 16 f3 28 72 37 ec 93 98 2f c5 88 ad 6b 4a c3 0b 38 3c 39 e8 5a d4 5a af ea d6 ed 25 20 3d c7 5c 67 9a 3d 48 8c 01 55 86 03 48 d2 61 8d 96 d8 0e f6 ad 73 30 b5 66 54 de 18 64 25 cb 50 cf 7c f1 71 53 3a 35 28 b1 c0 2c f6 9b a2 8a 3e 3d fb 48 df 97 e3 fc 9d 7e 7e 44 44 7f 80\n"
     ]
    }
   ],
   "source": [
    "hexprint(bits)"
   ]
  },
  {
   "cell_type": "markdown",
   "metadata": {},
   "source": [
    "Trim the data between the `0x7e7e` flags. We skip Reed-Solomon decoding, since we are confident that there are no bit errors."
   ]
  },
  {
   "cell_type": "code",
   "execution_count": 5,
   "metadata": {},
   "outputs": [
    {
     "name": "stdout",
     "output_type": "stream",
     "text": [
      "d3 f8 0e a2 ea c4 8e 2c 4b 0e 28 fa 90 20 4f 4c b1 23 ab 18 63 1a f5 ce 57 97 2f 05 87 d0 ac c6 99 bb 20 d6 89 9b 01 84 e9 3a d7 ac c9 69 a5 4f 14 51 33 5f be 9c 9c 5a ba ba 75 84 06 ca 07 84 0a a0 15 da 57 38 d0 da db 75 49 08 16 f3 28 72 37 ec 93 98 2f c5 88 ad 6b 4a c3 0b 38 3c 39 e8 5a d4 5a af ea d6 ed 25 20 3d c7 5c 67 9a 3d 48 8c 01 55 86 03 48 d2 61 8d 96 d8 0e f6 ad 73 30 b5 66 54 de 18 64 25 cb 50 cf 7c f1 71 53 3a 35 28 b1 c0 2c f6 9b a2 8a 3e 3d fb 48 df 97 e3 fc 9d\n"
     ]
    }
   ],
   "source": [
    "data = bits[16:16+161*8]\n",
    "hexprint(data)"
   ]
  },
  {
   "cell_type": "markdown",
   "metadata": {},
   "source": [
    "Reverse the bytes in the data."
   ]
  },
  {
   "cell_type": "code",
   "execution_count": 6,
   "metadata": {},
   "outputs": [
    {
     "name": "stdout",
     "output_type": "stream",
     "text": [
      "cb 1f 70 45 57 23 71 34 d2 70 14 5f 09 04 f2 32 8d c4 d5 18 c6 58 af 73 ea e9 f4 a0 e1 0b 35 63 99 dd 04 6b 91 d9 80 21 97 5c eb 35 93 96 a5 f2 28 8a cc fa 7d 39 39 5a 5d 5d ae 21 60 53 e0 21 50 05 a8 5b ea 1c 0b 5b db ae 92 10 68 cf 14 4e ec 37 c9 19 f4 a3 11 b5 d6 52 c3 d0 1c 3c 9c 17 5a 2b 5a f5 57 6b b7 a4 04 bc e3 3a e6 59 bc 12 31 80 aa 61 c0 12 4b 86 b1 69 1b 70 6f b5 ce 0c ad 66 2a 7b 18 26 a4 d3 0a f3 3e 8f 8e ca 5c ac 14 8d 03 34 6f d9 45 51 7c bc df 12 fb e9 c7 3f b9\n"
     ]
    }
   ],
   "source": [
    "data_rev = np.fliplr(data.reshape((-1,8))).ravel()\n",
    "hexprint(data_rev)"
   ]
  },
  {
   "cell_type": "markdown",
   "metadata": {},
   "source": [
    "Perform bit de-stuffing."
   ]
  },
  {
   "cell_type": "code",
   "execution_count": 7,
   "metadata": {},
   "outputs": [
    {
     "name": "stdout",
     "output_type": "stream",
     "text": [
      "Long run found at bit 1193\n"
     ]
    }
   ],
   "source": [
    "data_rev_destuff = list()\n",
    "run = 0\n",
    "for i, bit in enumerate(data_rev):\n",
    "    if run == 5:\n",
    "        if bit == 1:\n",
    "            print('Long run found at bit', i)\n",
    "            break\n",
    "        else:\n",
    "            run = 0\n",
    "    elif bit == 0:\n",
    "        run = 0\n",
    "        data_rev_destuff.append(bit)\n",
    "    elif bit == 1:\n",
    "        run += 1\n",
    "        data_rev_destuff.append(bit)\n",
    "data_rev_destuff = np.array(data_rev_destuff, dtype = 'uint8')"
   ]
  },
  {
   "cell_type": "markdown",
   "metadata": {},
   "source": [
    "That it interesting, we have found a run of ones longer than 5 inside the data. We wouln't expect such a run due to byte stuffing. This happens during byte of a total of 161 data bytes."
   ]
  },
  {
   "cell_type": "code",
   "execution_count": 8,
   "metadata": {},
   "outputs": [
    {
     "data": {
      "text/plain": [
       "149.125"
      ]
     },
     "execution_count": 8,
     "metadata": {},
     "output_type": "execute_result"
    }
   ],
   "source": [
    "1193/8"
   ]
  },
  {
   "cell_type": "code",
   "execution_count": 9,
   "metadata": {},
   "outputs": [
    {
     "name": "stdout",
     "output_type": "stream",
     "text": [
      "cb 1f e0 8a ae 46 e2 69 a4 e0 28 be 24 13 c8 ca 37 13 54 63 19 62 bd cf d7 4f ca 0e 10 b3 56 39 9d d0 46 b9 1d 98 02 19 75 ce b3 59 39 6a 5f 45 11 59 9f 9f 9c 9c ad 2e ae d7 10 b0 29 f0 21 50 05 a8 5b f4 38 16 b7 b7 5d 24 20 d1 9e 28 9d d8 6f a4 67 e5 18 8d ae b2 96 1e 80 e1 e4 e0 ba d1 5a d7 aa bb 5d bd 20 25 e7 19 d7 32 cd e0 91 8c 05 53 0e 00 92 5c 35 8b 48 db 83 7f 5c e0 ca d6 62 a7 b1 82 6a 4d 30 af 33 f1 f3 b2 97 2b 05 23 40 cd 1b e0\n"
     ]
    }
   ],
   "source": [
    "hexprint(data_rev_destuff)"
   ]
  },
  {
   "cell_type": "markdown",
   "metadata": {},
   "source": [
    "Add 3 bytes of zeros to start of the data to perform G3RUH descrambling."
   ]
  },
  {
   "cell_type": "code",
   "execution_count": 10,
   "metadata": {},
   "outputs": [
    {
     "name": "stdout",
     "output_type": "stream",
     "text": [
      "00 00 00 cb 1f e0 8a ae 46 e2 69 a4 e0 28 be 24 13 c8 ca 37 13 54 63 19 62 bd cf d7 4f ca 0e 10 b3 56 39 9d d0 46 b9 1d 98 02 19 75 ce b3 59 39 6a 5f 45 11 59 9f 9f 9c 9c ad 2e ae d7 10 b0 29 f0 21 50 05 a8 5b f4 38 16 b7 b7 5d 24 20 d1 9e 28 9d d8 6f a4 67 e5 18 8d ae b2 96 1e 80 e1 e4 e0 ba d1 5a d7 aa bb 5d bd 20 25 e7 19 d7 32 cd e0 91 8c 05 53 0e 00 92 5c 35 8b 48 db 83 7f 5c e0 ca d6 62 a7 b1 82 6a 4d 30 af 33 f1 f3 b2 97 2b 05 23 40 cd 1b e0\n"
     ]
    }
   ],
   "source": [
    "data_rev_destuff_ext = np.concatenate((np.zeros(24, dtype='uint8'), data_rev_destuff))\n",
    "hexprint(data_rev_destuff_ext)"
   ]
  },
  {
   "cell_type": "markdown",
   "metadata": {},
   "source": [
    "Perform G3RUH descrambling."
   ]
  },
  {
   "cell_type": "code",
   "execution_count": 11,
   "metadata": {},
   "outputs": [
    {
     "name": "stdout",
     "output_type": "stream",
     "text": [
      "01 96 26 69 f6 ad 52 a2 49 e6 9d 69 99 77 5d 37 fe bf aa 7d bf ea c5 4e aa aa aa aa aa aa aa aa aa aa aa aa aa aa aa aa aa aa aa aa aa aa aa aa ab 95 54 05 55 55 55 55 54 55 55 55 55 55 55 55 54 00 00 07 4b 55 5e 55 ae fb 14 b8 03 06 b3 60 8b f9 9d 54 e2 aa 5d 54 5d 54 dd 54 0d 55 1c 0d 55 55 55 55 54 46 aa aa 52 ea aa aa 46 aa aa 52 ea aa aa b3 33 ea aa b2 cc 15 55 55 55 55 55 55 55 55 55 55 55 55 55 42 b5 42 aa aa aa ab b6 78 0d 20 d1 6e 80\n"
     ]
    }
   ],
   "source": [
    "data_descrambled = data_rev_destuff_ext[:-17] ^ data_rev_destuff_ext[5:-12] ^ data_rev_destuff_ext[17:]\n",
    "hexprint(data_descrambled)"
   ]
  },
  {
   "cell_type": "markdown",
   "metadata": {},
   "source": [
    "Perform NRZ-I decoding."
   ]
  },
  {
   "cell_type": "code",
   "execution_count": 12,
   "metadata": {},
   "outputs": [
    {
     "name": "stdout",
     "output_type": "stream",
     "text": [
      "fd 45 95 45 e4 08 08 19 25 d4 58 45 54 66 18 a7 fc 3f 01 79 3f c0 b0 2c 00 00 00 00 00 00 00 00 00 00 00 00 00 00 00 00 00 00 00 00 00 00 00 00 03 40 03 f0 00 00 00 00 03 00 00 00 00 00 00 00 03 ff ff f6 22 00 1d 01 0c f2 c2 37 fa f4 2a 5e 63 f5 58 02 d8 01 18 03 18 02 98 03 e8 00 db e8 00 00 00 00 03 34 00 01 08 c0 00 01 34 00 01 08 c0 00 00 2a ab c0 00 28 ab c0 00 00 00 00 00 00 00 00 00 00 00 00 00 38 20 38 00 00 00 03 25 77 e8 9e 8c 4c 00\n"
     ]
    }
   ],
   "source": [
    "data_nrz = data_descrambled[1:] ^ data_descrambled[:-1] ^ 1\n",
    "hexprint(data_nrz)"
   ]
  },
  {
   "cell_type": "markdown",
   "metadata": {},
   "source": [
    "The long sequences of zeros are a good indicator, but still we don't have the expected `8A A6 8A 9E 40 40 60 92 AE 68 88 AA 98 61` AX.25 header."
   ]
  }
 ],
 "metadata": {
  "kernelspec": {
   "display_name": "Python 3",
   "language": "python3",
   "name": "python3"
  },
  "language_info": {
   "codemirror_mode": {
    "name": "ipython",
    "version": 3
   },
   "file_extension": ".py",
   "mimetype": "text/x-python",
   "name": "python",
   "nbconvert_exporter": "python",
   "pygments_lexer": "ipython3",
   "version": "3.6.5"
  }
 },
 "nbformat": 4,
 "nbformat_minor": 2
}
