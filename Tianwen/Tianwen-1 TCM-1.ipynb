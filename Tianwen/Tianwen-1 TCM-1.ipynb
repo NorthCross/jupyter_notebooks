{
 "cells": [
  {
   "cell_type": "code",
   "execution_count": 1,
   "metadata": {},
   "outputs": [],
   "source": [
    "%matplotlib inline\n",
    "import numpy as np\n",
    "import matplotlib.pyplot as plt\n",
    "from scipy.constants import c\n",
    "\n",
    "epoch = np.datetime64('2015-12-31T16:00:00', 'us')\n",
    "Xband_freq = 8431e6"
   ]
  },
  {
   "cell_type": "code",
   "execution_count": 2,
   "metadata": {},
   "outputs": [],
   "source": [
    "def open_state(path, sel = slice(None)):\n",
    "    with open(path) as f:\n",
    "        lines = f.readlines()[sel]\n",
    "    t = np.array([epoch + np.timedelta64(int(a.split()[0].lstrip('[').rstrip(']'), 16) * 100, 'us')\n",
    "            for a in lines])\n",
    "    x = np.array([[float(x) for x in a.split()[3:]] for a in lines])\n",
    "    return t, x\n",
    "\n",
    "t, x = open_state('tm_state_vectors/20200801')"
   ]
  },
  {
   "cell_type": "code",
   "execution_count": 3,
   "metadata": {},
   "outputs": [
    {
     "data": {
      "image/png": "[encoded data removed]",
      "text/plain": [
       "<Figure size 864x432 with 1 Axes>"
      ]
     },
     "metadata": {},
     "output_type": "display_data"
    }
   ],
   "source": [
    "jump = np.argmax(np.diff(t))+1\n",
    "s = (t-t[0])/np.timedelta64(1,'s')\n",
    "dv = np.empty_like(x[:,3:])\n",
    "for j in range(3,6):\n",
    "    p = np.polyfit(s[jump+1:], x[jump+1:,j], 1)\n",
    "    dv[:,j-3] = x[:,j] - np.polyval(p, s)\n",
    "    \n",
    "plt.figure(figsize = (12,6), facecolor = 'w')\n",
    "plt.plot(t, dv, '.')\n",
    "plt.title('State vector velocity minus degree 1 polynomial')\n",
    "plt.grid()\n",
    "plt.xlabel('UTC time')\n",
    "plt.legend(['VX', 'VY', 'VZ'])\n",
    "plt.ylabel('Velocity (km/s)');"
   ]
  },
  {
   "cell_type": "code",
   "execution_count": 4,
   "metadata": {},
   "outputs": [
    {
     "data": {
      "text/plain": [
       "array([-0.96498824,  5.00862308, 13.94448455])"
      ]
     },
     "execution_count": 4,
     "metadata": {},
     "output_type": "execute_result"
    }
   ],
   "source": [
    "delta_v = -dv[jump-1]*1e3\n",
    "delta_v"
   ]
  },
  {
   "cell_type": "code",
   "execution_count": 5,
   "metadata": {},
   "outputs": [
    {
     "data": {
      "text/plain": [
       "14.848102803753614"
      ]
     },
     "execution_count": 5,
     "metadata": {},
     "output_type": "execute_result"
    }
   ],
   "source": [
    "delta_v_norm = np.sqrt(np.sum(delta_v**2))\n",
    "delta_v_norm"
   ]
  },
  {
   "cell_type": "code",
   "execution_count": 6,
   "metadata": {},
   "outputs": [],
   "source": [
    "# Sun ICRF just before TCM-1\n",
    "#        Time System   Gregorian                     Modified Julian  \n",
    "#        ----------------------------------------------------------------------    \n",
    "#        UTC Epoch:    01 Aug 2020 22:56:38.636      29063.4560027315\n",
    "#        TAI Epoch:    01 Aug 2020 22:57:15.636      29063.4564309722\n",
    "#        TT  Epoch:    01 Aug 2020 22:57:47.820      29063.4568034722\n",
    "#        TDB Epoch:    01 Aug 2020 22:57:47.819      29063.4568034634\n",
    "#\n",
    "#        Cartesian State                       Keplerian State\n",
    "#        ---------------------------           -------------------------------- \n",
    "#        X  =   100106665.12599 km             SMA  =   196395473.11311 km\n",
    "#        Y  =  -106233036.89143 km             ECC  =   0.2264074114545\n",
    "#        Z  =  -45482379.221828 km             INC  =   23.985734539291 deg\n",
    "#        VX =   25.601134853241 km/sec         RAAN =   357.75144052004 deg\n",
    "#        VY =   18.216911054279 km/sec         AOP  =   297.97429611023 deg\n",
    "#        VZ =   8.5459278889407 km/sec         TA   =   14.988135302053 deg\n",
    "#                                              MA   =   9.2475726826253 deg\n",
    "#                                              EA   =   11.928893048680 deg \n",
    "\n",
    "V = np.array([25.601134853241, 18.216911054279, 8.5459278889407])\n",
    "V = V / np.sqrt(np.sum(V**2))\n",
    "R = np.array([100106665.12599, -106233036.89143, -45482379.221828])\n",
    "N = np.cross(V,-R)\n",
    "N = N / np.sqrt(np.sum(N**2))\n",
    "B = np.cross(V,N)\n",
    "VNB_rot = np.stack((V,N,B), axis = 1)"
   ]
  },
  {
   "cell_type": "code",
   "execution_count": 7,
   "metadata": {},
   "outputs": [
    {
     "data": {
      "text/plain": [
       "array([ 5.70307085, 10.72123959, -8.54377911])"
      ]
     },
     "execution_count": 7,
     "metadata": {},
     "output_type": "execute_result"
    }
   ],
   "source": [
    "delta_V_VNB = VNB_rot.T @ delta_v\n",
    "delta_V_VNB"
   ]
  },
  {
   "cell_type": "code",
   "execution_count": 8,
   "metadata": {},
   "outputs": [
    {
     "data": {
      "text/plain": [
       "4.275257401691603"
      ]
     },
     "execution_count": 8,
     "metadata": {},
     "output_type": "execute_result"
    }
   ],
   "source": [
    "# Earth ICRF just before TCM-1\n",
    "#        Time System   Gregorian                     Modified Julian  \n",
    "#        ----------------------------------------------------------------------    \n",
    "#        UTC Epoch:    01 Aug 2020 22:56:38.636      29063.4560027315\n",
    "#        TAI Epoch:    01 Aug 2020 22:57:15.636      29063.4564309722\n",
    "#        TT  Epoch:    01 Aug 2020 22:57:47.820      29063.4568034722\n",
    "#        TDB Epoch:    01 Aug 2020 22:57:47.819      29063.4568034634\n",
    "#\n",
    "#        Cartesian State                       Keplerian State\n",
    "#        ---------------------------           -------------------------------- \n",
    "#        X  =   2824896.0703325 km             SMA  =  -33739.791145906 km\n",
    "#        Y  =   703882.11955762 km             ECC  =   1.0100269372188\n",
    "#        Z  =   874648.20443903 km             INC  =   19.719676923581 deg\n",
    "#        VX =   3.2283744901454 km/sec         RAAN =   250.93957110112 deg\n",
    "#        VY =   0.8099034875800 km/sec         AOP  =   309.65888221948 deg\n",
    "#        VZ =   0.9989315603252 km/sec         TA   =   171.83014107664 deg\n",
    "#                                              MA   =   4921.4382033189 deg\n",
    "#                                              HA   =   297.65460113930 deg\n",
    "\n",
    "Rearth = np.array([2824896.0703325, 703882.11955762, 874648.20443903])\n",
    "delta_v_proj = np.dot(delta_v, Rearth)/np.sqrt(np.sum(Rearth**2))\n",
    "delta_v_proj"
   ]
  },
  {
   "cell_type": "code",
   "execution_count": 9,
   "metadata": {},
   "outputs": [],
   "source": [
    "with open('peakreclog020820.txt') as f:\n",
    "    lines = f.readlines()\n",
    "t_peakrec = np.array([np.datetime64('T'.join(l.split()[:2])) for l in lines])\n",
    "f_peakrec = np.array([float(l.split()[2]) for l in lines])"
   ]
  },
  {
   "cell_type": "code",
   "execution_count": 10,
   "metadata": {},
   "outputs": [
    {
     "data": {
      "text/plain": [
       "[<matplotlib.lines.Line2D at 0x7f4ea6069610>]"
      ]
     },
     "execution_count": 10,
     "metadata": {},
     "output_type": "execute_result"
    },
    {
     "data": {
      "image/png": "[encoded data removed]",
      "text/plain": [
       "<Figure size 864x432 with 1 Axes>"
      ]
     },
     "metadata": {},
     "output_type": "display_data"
    }
   ],
   "source": [
    "sel = (t_peakrec >= np.datetime64('2020-08-01T22:30')) & (t_peakrec <= np.datetime64('2020-08-01T23:10'))\n",
    "plt.figure(figsize = (12,6), facecolor = 'w')\n",
    "plt.plot(t_peakrec[sel], f_peakrec[sel])"
   ]
  },
  {
   "cell_type": "code",
   "execution_count": 11,
   "metadata": {},
   "outputs": [
    {
     "data": {
      "text/plain": [
       "[<matplotlib.lines.Line2D at 0x7f4ea5f46510>]"
      ]
     },
     "execution_count": 11,
     "metadata": {},
     "output_type": "execute_result"
    },
    {
     "data": {
      "image/png": "[encoded data removed]",
      "text/plain": [
       "<Figure size 864x432 with 1 Axes>"
      ]
     },
     "metadata": {},
     "output_type": "display_data"
    }
   ],
   "source": [
    "sel_fit = t_peakrec <= np.datetime64('2020-08-01T22:55')\n",
    "s = (t_peakrec-t_peakrec[0])/np.timedelta64(1,'s')\n",
    "p_peakrec = np.polyfit(s[sel & sel_fit], f_peakrec[sel & sel_fit], 2)\n",
    "f_peakrec_corr = f_peakrec - np.polyval(p_peakrec, s)\n",
    "plt.figure(figsize = (12,6), facecolor = 'w')\n",
    "plt.plot(t_peakrec[sel], f_peakrec_corr[sel])"
   ]
  },
  {
   "cell_type": "code",
   "execution_count": 12,
   "metadata": {},
   "outputs": [
    {
     "data": {
      "image/png": "[encoded data removed]",
      "text/plain": [
       "<Figure size 864x432 with 1 Axes>"
      ]
     },
     "metadata": {},
     "output_type": "display_data"
    }
   ],
   "source": [
    "sel_before = (t_peakrec >= np.datetime64('2020-08-01T22:55')) & (t_peakrec <= np.datetime64('2020-08-01T22:56:55'))\n",
    "sel_ullage = (t_peakrec >= np.datetime64('2020-08-01T22:56:55')) & (t_peakrec <= np.datetime64('2020-08-01T23:00:09'))\n",
    "sel_burn = (t_peakrec >= np.datetime64('2020-08-01T23:00:09')) & (t_peakrec <= np.datetime64('2020-08-01T23:00:34'))\n",
    "sel_after = (t_peakrec >= np.datetime64('2020-08-01T23:00:34')) & (t_peakrec <= np.datetime64('2020-08-01T23:02'))\n",
    "\n",
    "plt.figure(figsize = (12,6), facecolor = 'w')\n",
    "plt.plot(t_peakrec[sel_before], f_peakrec_corr[sel_before], '.-', label = 'Before TCM-1')\n",
    "plt.plot(t_peakrec[sel_ullage], f_peakrec_corr[sel_ullage], '.-', label = 'Ullage')\n",
    "plt.plot(t_peakrec[sel_burn], f_peakrec_corr[sel_burn], '.-', label = 'Burn')\n",
    "plt.plot(t_peakrec[sel_after], f_peakrec_corr[sel_after], '.-', label = 'After TCM-1')\n",
    "plt.legend()\n",
    "plt.grid()\n",
    "plt.title('Doppler shift observed during TCM-1')\n",
    "plt.xlabel('UTC time')\n",
    "plt.ylabel('Relative Doppler shift (Hz)');"
   ]
  },
  {
   "cell_type": "code",
   "execution_count": 13,
   "metadata": {},
   "outputs": [
    {
     "data": {
      "text/plain": [
       "-111.68599164485931"
      ]
     },
     "execution_count": 13,
     "metadata": {},
     "output_type": "execute_result"
    }
   ],
   "source": [
    "total_shift = f_peakrec_corr[sel_after][-1]\n",
    "total_shift"
   ]
  },
  {
   "cell_type": "code",
   "execution_count": 14,
   "metadata": {},
   "outputs": [
    {
     "data": {
      "text/plain": [
       "-16.40932196378708"
      ]
     },
     "execution_count": 14,
     "metadata": {},
     "output_type": "execute_result"
    }
   ],
   "source": [
    "ullage_shift = f_peakrec_corr[sel_ullage][-1]\n",
    "ullage_shift"
   ]
  },
  {
   "cell_type": "code",
   "execution_count": 15,
   "metadata": {},
   "outputs": [
    {
     "data": {
      "text/plain": [
       "-95.27666968107224"
      ]
     },
     "execution_count": 15,
     "metadata": {},
     "output_type": "execute_result"
    }
   ],
   "source": [
    "burn_shift = total_shift - ullage_shift\n",
    "burn_shift"
   ]
  },
  {
   "cell_type": "code",
   "execution_count": 16,
   "metadata": {},
   "outputs": [
    {
     "data": {
      "text/plain": [
       "0.14692372536714965"
      ]
     },
     "execution_count": 16,
     "metadata": {},
     "output_type": "execute_result"
    }
   ],
   "source": [
    "ullage_shift/total_shift"
   ]
  },
  {
   "cell_type": "code",
   "execution_count": 17,
   "metadata": {},
   "outputs": [
    {
     "data": {
      "text/plain": [
       "numpy.timedelta64(194,'s')"
      ]
     },
     "execution_count": 17,
     "metadata": {},
     "output_type": "execute_result"
    }
   ],
   "source": [
    "ullage_time = t_peakrec[sel_ullage][-1] - t_peakrec[sel_ullage][0]\n",
    "ullage_time"
   ]
  },
  {
   "cell_type": "code",
   "execution_count": 18,
   "metadata": {},
   "outputs": [
    {
     "data": {
      "text/plain": [
       "numpy.timedelta64(25,'s')"
      ]
     },
     "execution_count": 18,
     "metadata": {},
     "output_type": "execute_result"
    }
   ],
   "source": [
    "burn_time = t_peakrec[sel_burn][-1] - t_peakrec[sel_burn][0]\n",
    "burn_time"
   ]
  },
  {
   "cell_type": "code",
   "execution_count": 19,
   "metadata": {},
   "outputs": [
    {
     "data": {
      "text/plain": [
       "-0.08591914664445155"
      ]
     },
     "execution_count": 19,
     "metadata": {},
     "output_type": "execute_result"
    }
   ],
   "source": [
    "ullage_drift = np.polyfit(s[sel_ullage], f_peakrec_corr[sel_ullage], 1)[0]\n",
    "ullage_drift"
   ]
  },
  {
   "cell_type": "code",
   "execution_count": 20,
   "metadata": {},
   "outputs": [
    {
     "data": {
      "text/plain": [
       "-4.3574757328196085"
      ]
     },
     "execution_count": 20,
     "metadata": {},
     "output_type": "execute_result"
    }
   ],
   "source": [
    "burn_drift = np.polyfit(s[sel_burn], f_peakrec_corr[sel_burn], 1)[0]\n",
    "burn_drift"
   ]
  },
  {
   "cell_type": "code",
   "execution_count": 21,
   "metadata": {},
   "outputs": [
    {
     "data": {
      "text/plain": [
       "-120.2321612562445"
      ]
     },
     "execution_count": 21,
     "metadata": {},
     "output_type": "execute_result"
    }
   ],
   "source": [
    "-delta_v_proj/c * Xband_freq"
   ]
  },
  {
   "cell_type": "code",
   "execution_count": 22,
   "metadata": {},
   "outputs": [
    {
     "data": {
      "text/plain": [
       "0.5381276271652051"
      ]
     },
     "execution_count": 22,
     "metadata": {},
     "output_type": "execute_result"
    }
   ],
   "source": [
    "-delta_v_norm/delta_v_proj * burn_drift/Xband_freq * c"
   ]
  },
  {
   "cell_type": "code",
   "execution_count": 23,
   "metadata": {},
   "outputs": [
    {
     "data": {
      "text/plain": [
       "0.6"
      ]
     },
     "execution_count": 23,
     "metadata": {},
     "output_type": "execute_result"
    }
   ],
   "source": [
    "# Burn of 3kN quoted in http://www.spaceflightfans.cn/78053.html#more-78053\n",
    "F = 3000\n",
    "m = 5000\n",
    "F/m"
   ]
  },
  {
   "cell_type": "code",
   "execution_count": 24,
   "metadata": {},
   "outputs": [
    {
     "data": {
      "text/plain": [
       "0.010610607917699234"
      ]
     },
     "execution_count": 24,
     "metadata": {},
     "output_type": "execute_result"
    }
   ],
   "source": [
    "ullage_accel = -delta_v_norm/delta_v_proj * ullage_drift/Xband_freq * c\n",
    "ullage_accel"
   ]
  },
  {
   "cell_type": "code",
   "execution_count": 25,
   "metadata": {},
   "outputs": [
    {
     "data": {
      "text/plain": [
       "53.05303958849617"
      ]
     },
     "execution_count": 25,
     "metadata": {},
     "output_type": "execute_result"
    }
   ],
   "source": [
    "ullage_accel * m"
   ]
  }
 ],
 "metadata": {
  "kernelspec": {
   "display_name": "Python 3",
   "language": "python",
   "name": "python3"
  },
  "language_info": {
   "codemirror_mode": {
    "name": "ipython",
    "version": 3
   },
   "file_extension": ".py",
   "mimetype": "text/x-python",
   "name": "python",
   "nbconvert_exporter": "python",
   "pygments_lexer": "ipython3",
   "version": "3.7.8"
  }
 },
 "nbformat": 4,
 "nbformat_minor": 4
}
