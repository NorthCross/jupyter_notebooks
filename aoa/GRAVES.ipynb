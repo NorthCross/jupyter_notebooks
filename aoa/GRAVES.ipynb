{
 "cells": [
  {
   "cell_type": "code",
   "execution_count": 1,
   "metadata": {
    "collapsed": true
   },
   "outputs": [],
   "source": [
    "%matplotlib inline\n",
    "import numpy as np\n",
    "import matplotlib.pyplot as plt\n",
    "import scipy.signal"
   ]
  },
  {
   "cell_type": "code",
   "execution_count": 2,
   "metadata": {
    "collapsed": true
   },
   "outputs": [],
   "source": [
    "x = np.fromfile('/home/daniel/aoa_graves.2xc64', dtype = 'complex64').reshape((-1,2))"
   ]
  },
  {
   "cell_type": "code",
   "execution_count": 3,
   "metadata": {
    "collapsed": true
   },
   "outputs": [],
   "source": [
    "fs = 1000"
   ]
  },
  {
   "cell_type": "code",
   "execution_count": 4,
   "metadata": {
    "collapsed": true
   },
   "outputs": [],
   "source": [
    "average = fs//10\n",
    "corr = x[:,0] * np.conj(x[:,1])\n",
    "(1e6*corr).astype('complex64').tofile('/tmp/corr.c64')\n",
    "corr = np.sum(corr[:corr.size//average*average].reshape((-1,average)), axis = 1)"
   ]
  },
  {
   "cell_type": "code",
   "execution_count": 5,
   "metadata": {},
   "outputs": [
    {
     "data": {
      "text/plain": [
       "[<matplotlib.lines.Line2D at 0x7f1c096897f0>]"
      ]
     },
     "execution_count": 5,
     "metadata": {},
     "output_type": "execute_result"
    },
    {
     "data": {
      "image/png": "[encoded data removed]",
      "text/plain": [
       "<Figure size 432x288 with 1 Axes>"
      ]
     },
     "metadata": {},
     "output_type": "display_data"
    }
   ],
   "source": [
    "plt.plot(10*np.log10(np.abs(corr)), ',')"
   ]
  },
  {
   "cell_type": "code",
   "execution_count": 6,
   "metadata": {
    "collapsed": true
   },
   "outputs": [],
   "source": [
    "def spectrum_plot(ax, x):\n",
    "    f, t, Sxx = scipy.signal.spectrogram(x, fs, return_onesided=False)\n",
    "    f = np.fft.fftshift(f)\n",
    "    ax.imshow(np.fft.fftshift(np.log10(Sxx), axes=0), extent = [t[0],t[-1],f[-1],f[0]], aspect='auto', cmap='viridis', vmax = -9, vmin = -13)"
   ]
  },
  {
   "cell_type": "code",
   "execution_count": 7,
   "metadata": {},
   "outputs": [],
   "source": [
    "n_secs = 100\n",
    "for j,start in enumerate(range(0, x.shape[0], fs * n_secs)):\n",
    "    fig, ax1 = plt.subplots(figsize = (15,4))\n",
    "    spectrum_plot(ax1, x[start:start+fs*n_secs,0])\n",
    "    ax2 = ax1.twinx()\n",
    "    az = np.rad2deg(np.angle(corr[start//average:(start+fs*n_secs)//average]))\n",
    "    ax2.plot(np.arange(az.size)/(fs//average), az, '.', color = 'red')\n",
    "    ax2.set_ylim([-180, 180])\n",
    "    ax1.set_ylim([-150, 150])\n",
    "    ax1.set_xlabel('Time (s)')\n",
    "    ax1.set_ylabel('Freq (Hz)')\n",
    "    ax2.set_ylabel('Phase (deg)', color = 'red')\n",
    "    fig.savefig(f'/tmp/plot_graves_{j:03d}')\n",
    "    plt.close()"
   ]
  }
 ],
 "metadata": {
  "kernelspec": {
   "display_name": "Python 3",
   "language": "python3",
   "name": "python3"
  },
  "language_info": {
   "codemirror_mode": {
    "name": "ipython",
    "version": 3
   },
   "file_extension": ".py",
   "mimetype": "text/x-python",
   "name": "python",
   "nbconvert_exporter": "python",
   "pygments_lexer": "ipython3",
   "version": "3.6.5"
  }
 },
 "nbformat": 4,
 "nbformat_minor": 2
}
